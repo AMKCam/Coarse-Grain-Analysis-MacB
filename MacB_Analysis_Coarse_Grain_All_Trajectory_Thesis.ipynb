{
 "cells": [
  {
   "cell_type": "markdown",
   "metadata": {},
   "source": [
    "# MacB Coarse Grain All Trajectory Analysis"
   ]
  },
  {
   "cell_type": "markdown",
   "metadata": {},
   "source": [
    "## MD Analysis"
   ]
  },
  {
   "cell_type": "markdown",
   "metadata": {},
   "source": [
    "### Import Modules"
   ]
  },
  {
   "cell_type": "code",
   "execution_count": 1,
   "metadata": {},
   "outputs": [],
   "source": [
    "import pandas as pd\n",
    "import matplotlib.pyplot as plt\n",
    "import numpy as np\n",
    "import scipy\n",
    "import seaborn as sns\n",
    "import statistics as s\n",
    "import MDAnalysis as mda\n",
    "#import nglview as nv"
   ]
  },
  {
   "cell_type": "markdown",
   "metadata": {},
   "source": [
    "### Helper Modules"
   ]
  },
  {
   "cell_type": "code",
   "execution_count": null,
   "metadata": {},
   "outputs": [],
   "source": [
    "# Converts 3 letter code to 1 letter code\n",
    "convert_to_one_letter_dic = {\"ALA\":\"A\", \"ARG\":\"R\", \"ASN\":\"N\", \"ASP\":\"D\", \"CYS\":\"C\", \"GLU\":\"E\", \"GLN\":\"Q\", \"GLY\":\"G\",\\\n",
    "                            \"HSD\":\"H\", \"HIS\": \"H\", \"HSE\":\"H\", \"ILE\": \"I\", \"LEU\": \"L\", \"LYS\":\"K\", \"MET\":\"M\", \"PHE\":\"F\", \"PRO\":\"P\",\\\n",
    "                            \"SER\":\"S\", \"THR\":\"T\", \"TRP\":\"W\", \"TYR\":\"Y\", \"VAL\":\"V\"}\n",
    "def convert_to_one_letter(string):\n",
    "    amino_acid = str(string[0:3])\n",
    "    return convert_to_one_letter_dic[amino_acid]"
   ]
  },
  {
   "cell_type": "code",
   "execution_count": null,
   "metadata": {},
   "outputs": [],
   "source": [
    "# Permutation test function\n",
    "def permutation(pooled,sizeA,sizeB,iterations):\n",
    "    \"\"\"\n",
    "    Function takes pooled samples and randomly shuffles them according to partition size.\n",
    "    New randommly shuffled partitions are sorted and substracted mean calculated (delta).\n",
    "    Delta appended to a list. \n",
    "    Set x iterations.\n",
    "    \"\"\"\n",
    "    count = 0\n",
    "    mean_list = []\n",
    "    while count < iterations:\n",
    "        np.random.shuffle(pooled)\n",
    "        new_A = pooled[:sizeA]\n",
    "        new_B = pooled[-sizeB:]\n",
    "        delta = s.mean(new_A) - s.mean(new_B)\n",
    "        mean_list.append(delta)\n",
    "        count += 1\n",
    "    return mean_list"
   ]
  },
  {
   "cell_type": "code",
   "execution_count": null,
   "metadata": {},
   "outputs": [],
   "source": [
    "def extract_sub_vals_clust(data):\n",
    "    \"\"\"\n",
    "    Function takes a dataframe and returns internal lipid or no internal lipid average median count values.\n",
    "    \"\"\"\n",
    "    internal_lip_vals = []\n",
    "    no_internal_lip_vals = []\n",
    "    for row in data.itertuples():\n",
    "        if row.Internal_Lipid == 'yes':\n",
    "            internal_lip_vals.append(row.Scaled_Median_Count)\n",
    "        elif row.Internal_Lipid  == 'no':\n",
    "            no_internal_lip_vals.append(row.Scaled_Median_Count)\n",
    "                \n",
    "    return internal_lip_vals, no_internal_lip_vals"
   ]
  },
  {
   "cell_type": "code",
   "execution_count": null,
   "metadata": {},
   "outputs": [],
   "source": [
    "def clust_dic(dataframe):\n",
    "    internal_lip_clust_dic = dict()\n",
    "    no_internal_lip_clust_dic = dict()\n",
    "    for row in dataframe.itertuples():\n",
    "        if row.Internal_Lipid == \"yes\":\n",
    "            internal_lip_clust_dic[(row.Domain,row.Lipid)] = row.avg\n",
    "        elif row.Internal_Lipid == \"no\":\n",
    "            no_internal_lip_clust_dic[(row.Domain,row.Lipid)] = row.avg\n",
    "        \n",
    "    return internal_lip_clust_dic, no_internal_lip_clust_dic"
   ]
  },
  {
   "cell_type": "code",
   "execution_count": null,
   "metadata": {},
   "outputs": [],
   "source": [
    "def chain_pair_vals(chain_A,chain_B):\n",
    "    \"\"\"\n",
    "    Function takes dictionary of chain values for chain A and B and returns the difference\n",
    "    when the amino acids match. Else searches for instances where amino acid is unique to chain A or B.\n",
    "    \"\"\"\n",
    "    A_B_diff = dict()\n",
    "    unique_A = dict()\n",
    "    unique_B = dict()\n",
    "    for k1,v1 in chain_A.items():\n",
    "        for k2,v2 in chain_B.items():\n",
    "            if k1 == k2:\n",
    "                diff = 0\n",
    "                diff = v1 - v2\n",
    "                A_B_diff[k1] = diff\n",
    "            elif k1 not in chain_B.keys():\n",
    "                unique_A[k1] = v1\n",
    "    for k3,v3 in chain_B.items():\n",
    "        if k3 not in chain_A.keys():\n",
    "            unique_B[k3] = v3\n",
    "    return A_B_diff, unique_A, unique_B"
   ]
  },
  {
   "cell_type": "code",
   "execution_count": null,
   "metadata": {},
   "outputs": [],
   "source": [
    "def p_val(difference_dic,iterations,permute_results):\n",
    "    results_array = np.array(permute_results)\n",
    "    p_val_dict = dict()\n",
    "    for v1, v2 in difference_dic.items():\n",
    "        if v2 < 0:\n",
    "            diffCount = len(np.where(np.sort(results_array) <= v2)[0])\n",
    "            p_val = float(diffCount)/float(iterations)\n",
    "            p_val_dict[v1] = p_val\n",
    "        else:\n",
    "            diffCount = len(np.where(np.sort(results_array) >= v2)[0])\n",
    "            p_val = float(diffCount)/float(iterations)\n",
    "            p_val_dict[v1] = p_val\n",
    "    return p_val_dict"
   ]
  },
  {
   "cell_type": "code",
   "execution_count": null,
   "metadata": {},
   "outputs": [],
   "source": [
    "def sig_p_val(p_val_dic,sig_level):\n",
    "    num_tests = int(len(p_val_dic))\n",
    "    bonferroni = sig_level/num_tests\n",
    "    sig_vals = dict()\n",
    "    for key,val in p_val_dic.items():\n",
    "        if val <= bonferroni:\n",
    "            sig_vals[key] = val\n",
    "    return sig_vals"
   ]
  },
  {
   "cell_type": "code",
   "execution_count": null,
   "metadata": {},
   "outputs": [],
   "source": [
    "def bootstrap_lipid(pooled,n_samples,iterations):\n",
    "    random.seed(42) # set seed\n",
    "    count = 0\n",
    "    mean_diff_list = [] #store median difference values for plotting\n",
    "    while count < iterations:\n",
    "        # randomly select samples from the list without replacement\n",
    "        # calculate mean difference - smoother distn than calc median diff\n",
    "        np.random.shuffle(pooled) # first shuffle the data\n",
    "        sample_1 = random.sample(pooled, n_samples)\n",
    "        sample_2 = random.sample(pooled, n_samples)\n",
    "        mean_diff = np.mean(sample_1) - np.mean(sample_2)\n",
    "        mean_diff_list.append(mean_diff)\n",
    "        count += 1\n",
    "        \n",
    "    return mean_diff_list"
   ]
  },
  {
   "cell_type": "code",
   "execution_count": null,
   "metadata": {},
   "outputs": [],
   "source": [
    "def extract_pope_vals(data):\n",
    "    \"\"\"\n",
    "    Function takes a dataframe and returns internal lipid or no internal lipid for \n",
    "    POPE values.\n",
    "    \"\"\"\n",
    "    internal_lip_pope_vals = []\n",
    "    no_internal_lip_pope_vals = []\n",
    "    for row in data.itertuples():\n",
    "        if row._2 == 'Yes':\n",
    "            internal_lip_pope_vals.append(row.POPE)\n",
    "        elif row._2 == 'No':\n",
    "            no_internal_lip_pope_vals.append(row.POPE)\n",
    "                \n",
    "    return internal_lip_pope_vals, no_internal_lip_pope_vals"
   ]
  },
  {
   "cell_type": "code",
   "execution_count": null,
   "metadata": {},
   "outputs": [],
   "source": [
    "def chain_dic_frames_pope(data):\n",
    "    \"\"\"\n",
    "    Function takes a dataframe and returns internal lipd or no internal lipid interaction \n",
    "    values based on chainID.\n",
    "    \"\"\"\n",
    "    internal_lip_dic = dict()\n",
    "    no_internal_lip_dic = dict()\n",
    "    for row in data.itertuples():\n",
    "        if row._1 == \"Yes\":\n",
    "            internal_lip_dic[(row.Chain,row.Joint_Position)] = row.Mean_POPE\n",
    "        elif row._1 == \"No\":\n",
    "            no_internal_lip_dic[(row.Chain,row.Joint_Position)] = row.Mean_POPE\n",
    "                \n",
    "    return internal_lip_dic, no_internal_lip_dic"
   ]
  },
  {
   "cell_type": "code",
   "execution_count": null,
   "metadata": {},
   "outputs": [],
   "source": [
    "def chain_pair_vals(chain_A,chain_B):\n",
    "    \"\"\"\n",
    "    Function takes dictionary of chain values for chain A and B and returns the difference\n",
    "    when the amino acids match. Else searches for instances where amino acid is unique to chain A or B.\n",
    "    \"\"\"\n",
    "    A_B_diff = dict()\n",
    "    unique_A = dict()\n",
    "    unique_B = dict()\n",
    "    for k1,v1 in chain_A.items():\n",
    "        for k2,v2 in chain_B.items():\n",
    "            if k1 == k2:\n",
    "                diff = 0\n",
    "                diff = v1 - v2\n",
    "                A_B_diff[k1] = diff\n",
    "            elif k1 not in chain_B.keys():\n",
    "                unique_A[k1] = v1\n",
    "    for k3,v3 in chain_B.items():\n",
    "        if k3 not in chain_A.keys():\n",
    "            unique_B[k3] = v3\n",
    "    return A_B_diff, unique_A, unique_B"
   ]
  },
  {
   "cell_type": "code",
   "execution_count": null,
   "metadata": {},
   "outputs": [],
   "source": [
    "def extract_cdl2_vals(data):\n",
    "    \"\"\"\n",
    "    Function takes a dataframe and returns internal lipid or no internal lipid for \n",
    "    CDL2 values.\n",
    "    \"\"\"\n",
    "    internal_lip_cdl2_vals = []\n",
    "    no_internal_lip_cdl2_vals = []\n",
    "    for row in data.itertuples():\n",
    "        if row._2 == 'Yes':\n",
    "            internal_lip_cdl2_vals.append(row.CDL2)\n",
    "        elif row._2 == 'No':\n",
    "            no_internal_lip_cdl2_vals.append(row.CDL2)\n",
    "                \n",
    "    return internal_lip_cdl2_vals, no_internal_lip_cdl2_vals"
   ]
  },
  {
   "cell_type": "code",
   "execution_count": null,
   "metadata": {},
   "outputs": [],
   "source": [
    "def chain_dic_frames_cdl2(data):\n",
    "    \"\"\"\n",
    "    Function takes a dataframe and returns internal lipd or no internal lipid interaction \n",
    "    values based on chainID.\n",
    "    \"\"\"\n",
    "    internal_lip_dic_cdl2 = dict()\n",
    "    no_internal_lip_dic_cdl2 = dict()\n",
    "    for row in data.itertuples():\n",
    "        if row._1 == \"Yes\":\n",
    "            internal_lip_dic_cdl2[(row.Chain,row.Joint_Position)] = row.Mean_CDL2\n",
    "        elif row._1 == \"No\":\n",
    "            no_internal_lip_dic_cdl2[(row.Chain,row.Joint_Position)] = row.Mean_CDL2\n",
    "                \n",
    "    return internal_lip_dic_cdl2, no_internal_lip_dic_cdl2"
   ]
  },
  {
   "cell_type": "code",
   "execution_count": null,
   "metadata": {},
   "outputs": [],
   "source": [
    "def extract_popg_vals(data):\n",
    "    \"\"\"\n",
    "    Function takes a dataframe and returns internal lipid or no internal lipid for \n",
    "    POPG values.\n",
    "    \"\"\"\n",
    "    internal_lip_popg_vals = []\n",
    "    no_internal_lip_popg_vals = []\n",
    "    for row in data.itertuples():\n",
    "        if row._2 == 'Yes':\n",
    "            internal_lip_popg_vals.append(row.POPG)\n",
    "        elif row._2 == 'No':\n",
    "            no_internal_lip_popg_vals.append(row.POPG)\n",
    "                \n",
    "    return internal_lip_popg_vals, no_internal_lip_popg_vals"
   ]
  },
  {
   "cell_type": "code",
   "execution_count": null,
   "metadata": {},
   "outputs": [],
   "source": [
    "def chain_dic_frames_popg(data):\n",
    "    \"\"\"\n",
    "    Function takes a dataframe and returns internal lipd or no internal lipid interaction \n",
    "    values based on chainID.\n",
    "    \"\"\"\n",
    "    internal_lip_dic_popg = dict()\n",
    "    no_internal_lip_dic_popg = dict()\n",
    "    for row in data.itertuples():\n",
    "        if row._1 == \"Yes\":\n",
    "            internal_lip_dic_popg[(row.Chain,row.Joint_Position)] = row.Mean_POPG\n",
    "        elif row._1 == \"No\":\n",
    "            no_internal_lip_dic_popg[(row.Chain,row.Joint_Position)] = row.Mean_POPG\n",
    "                \n",
    "    return internal_lip_dic_popg, no_internal_lip_dic_popg"
   ]
  },
  {
   "cell_type": "markdown",
   "metadata": {},
   "source": [
    "### Plots for thesis - set colours"
   ]
  },
  {
   "cell_type": "code",
   "execution_count": null,
   "metadata": {},
   "outputs": [],
   "source": [
    "palette = sns.color_palette(\"deep\")"
   ]
  },
  {
   "cell_type": "code",
   "execution_count": null,
   "metadata": {},
   "outputs": [],
   "source": [
    "blue = sns.color_palette(\"deep\")[0]\n",
    "orange = sns.color_palette(\"deep\")[1]\n",
    "green = sns.color_palette(\"deep\")[2]\n",
    "red = sns.color_palette(\"deep\")[3]\n",
    "purple = sns.color_palette(\"deep\")[4]\n",
    "brown = sns.color_palette(\"deep\")[5]\n",
    "pink = sns.color_palette(\"deep\")[6]\n",
    "grey = sns.color_palette(\"deep\")[7]\n",
    "gold = sns.color_palette(\"deep\")[8]\n",
    "turqoise = sns.color_palette(\"deep\")[9]"
   ]
  },
  {
   "cell_type": "markdown",
   "metadata": {},
   "source": [
    "### Define Universes"
   ]
  },
  {
   "cell_type": "code",
   "execution_count": null,
   "metadata": {},
   "outputs": [],
   "source": [
    "# Read trajectory\n",
    "u1 = mda.Universe(\"MacB_Internal_Lipid_Traj_1_nowater_chainAB.pdb\", 'MacB_Internal_Lipid_Traj_1_nowater_skip1000.xtc')\n",
    "u2 = mda.Universe(\"MacB_Internal_Lipid_Traj_2_nowater_chainAB.pdb\", 'MacB_Internal_Lipid_Traj_2_nowater_skip1000.xtc')\n",
    "u3 = mda.Universe(\"MacB_Internal_Lipid_Traj_3_nowater_chainAB.pdb\", 'MacB_Internal_Lipid_Traj_3_nowater_skip1000.xtc')\n",
    "u4 = mda.Universe(\"MacB_Internal_Lipid_Traj_4_nowater_chainAB.pdb\", 'MacB_Internal_Lipid_Traj_4_nowater_skip1000.xtc')\n",
    "u5 = mda.Universe(\"MacB_Internal_Lipid_Traj_5_nowater_chainAB.pdb\", 'MacB_Internal_Lipid_Traj_5_nowater_skip1000.xtc')\n",
    "u6 = mda.Universe(\"MacB_No_Internal_Lipid_Traj_1_nowater_chainAB.pdb\", 'MacB_No_Internal_Lipid_Traj_1_nowater_skip1000.xtc')\n",
    "u7 = mda.Universe(\"MacB_No_Internal_Lipid_Traj_2_nowater_chainAB.pdb\", 'MacB_No_Internal_Lipid_Traj_2_nowater_skip1000.xtc')\n",
    "u8 = mda.Universe(\"MacB_No_Internal_Lipid_Traj_3_nowater_chainAB.pdb\", 'MacB_No_Internal_Lipid_Traj_3_nowater_skip1000.xtc')\n",
    "u9 = mda.Universe(\"MacB_No_Internal_Lipid_Traj_4_nowater_chainAB.pdb\", 'MacB_No_Internal_Lipid_Traj_4_nowater_skip1000.xtc')\n",
    "u10 = mda.Universe(\"MacB_No_Internal_Lipid_Traj_5_nowater_chainAB.pdb\", 'MacB_No_Internal_Lipid_Traj_5_nowater_skip1000.xtc')"
   ]
  },
  {
   "cell_type": "code",
   "execution_count": null,
   "metadata": {},
   "outputs": [],
   "source": [
    "labels = [\"u1\",\"u2\",\"u3\",\"u4\",\"u5\",\"u6\",\"u7\",\"u8\",\"u9\",\"u10\"]"
   ]
  },
  {
   "cell_type": "code",
   "execution_count": null,
   "metadata": {},
   "outputs": [],
   "source": [
    "# Check length of the trajectories\n",
    "print(len(u1.trajectory), len(u2.trajectory), len(u3.trajectory), len(u4.trajectory), len(u5.trajectory))"
   ]
  },
  {
   "cell_type": "code",
   "execution_count": null,
   "metadata": {},
   "outputs": [],
   "source": [
    "# Check length of the trajectories\n",
    "print(len(u6.trajectory), len(u7.trajectory), len(u8.trajectory), len(u9.trajectory), len(u10.trajectory))"
   ]
  },
  {
   "cell_type": "markdown",
   "metadata": {},
   "source": [
    "### Ensemble Cluster Analysis"
   ]
  },
  {
   "cell_type": "markdown",
   "metadata": {},
   "source": [
    "This analysis only works with preselected atoms in trajectories. Only reduce number of frames to speed up calculation."
   ]
  },
  {
   "cell_type": "code",
   "execution_count": null,
   "metadata": {},
   "outputs": [],
   "source": [
    "# import modules\n",
    "from MDAnalysis.analysis import encore\n",
    "from MDAnalysis.analysis.encore.clustering import ClusteringMethod as clm"
   ]
  },
  {
   "cell_type": "code",
   "execution_count": null,
   "metadata": {},
   "outputs": [],
   "source": [
    "# Cluster\n",
    "ces0, details0 = encore.ces(ensembles=[u1,u2,u3,u4,u5,u6,u7,u8,u9,u10], select=\"type B\")"
   ]
  },
  {
   "cell_type": "code",
   "execution_count": null,
   "metadata": {},
   "outputs": [],
   "source": [
    "# Print cluster info\n",
    "cluster_collection = details0['clustering'][0]\n",
    "print(type(cluster_collection))\n",
    "print('We have found {} clusters'.format(len(cluster_collection)))"
   ]
  },
  {
   "cell_type": "code",
   "execution_count": null,
   "metadata": {},
   "outputs": [],
   "source": [
    "# k-means clustering\n",
    "km1 = clm.KMeans(80,  # no. clusters\n",
    "                 init = 'k-means++',  # default\n",
    "                 algorithm=\"auto\")    # default\n",
    "\n",
    "km2 = clm.KMeans(40,  # no. clusters\n",
    "                 init = 'k-means++',  # default\n",
    "                 algorithm=\"auto\")    # default\n",
    "\n",
    "km3 = clm.KMeans(20,  # no. clusters\n",
    "                 init = 'k-means++',  # default\n",
    "                 algorithm=\"auto\")    # default\n",
    "\n",
    "km4 = clm.KMeans(10,  # no. clusters\n",
    "                 init = 'k-means++',  # default\n",
    "                 algorithm=\"auto\")    # default\n",
    "\n"
   ]
  },
  {
   "cell_type": "code",
   "execution_count": null,
   "metadata": {},
   "outputs": [],
   "source": [
    "ces2, details2 = encore.ces([u1,u2,u3,u4,u5,u6,u7,u8,u9,u10],\n",
    "                         select='type B',\n",
    "                         clustering_method=[km1, km2, km3, km4],\n",
    "                         ncores=4)\n",
    "print(len(ces2), len(details2['clustering']))"
   ]
  },
  {
   "cell_type": "code",
   "execution_count": null,
   "metadata": {},
   "outputs": [],
   "source": [
    "# Plot clustering results\n",
    "titles = ['Kmeans 80 clusters', 'Kmeans 40 clusters', 'Kmeans 20 clusters', 'Kmeans 10 clusters']\n",
    "fig2, axes = plt.subplots(1, 4, sharey=True, figsize=(15, 4))\n",
    "for i, (data, title) in enumerate(zip(ces2, titles)):\n",
    "    imi = axes[i].imshow(data, vmax=np.log(2), vmin=0)\n",
    "    axes[i].set_xticks(np.arange(10))\n",
    "    axes[i].set_xticklabels(labels)\n",
    "    axes[i].set_title(title)\n",
    "plt.yticks(np.arange(10), labels)\n",
    "cbar2 = fig2.colorbar(imi, ax=axes.ravel().tolist())\n",
    "cbar2.set_label('Jensen-Shannon divergence')\n",
    "plt.savefig(\"Ensemble Cluster K means All Trajectories 3.png\", dpi = 300)"
   ]
  },
  {
   "cell_type": "code",
   "execution_count": null,
   "metadata": {},
   "outputs": [],
   "source": [
    "#estimate errors\n",
    "avgs, stds = encore.ces([u1, u2, u3, u4, u5, u6, u7, u8, u9, u10],\n",
    "                         select='type B',\n",
    "                         clustering_method=km4,\n",
    "                         estimate_error=True,\n",
    "                         ncores=4)"
   ]
  },
  {
   "cell_type": "code",
   "execution_count": null,
   "metadata": {},
   "outputs": [],
   "source": [
    "avgs"
   ]
  },
  {
   "cell_type": "code",
   "execution_count": null,
   "metadata": {},
   "outputs": [],
   "source": [
    "stds"
   ]
  },
  {
   "cell_type": "markdown",
   "metadata": {},
   "source": [
    "## Protein Lipid Contacts"
   ]
  },
  {
   "cell_type": "markdown",
   "metadata": {},
   "source": [
    "### Lipid Clustering Analysis"
   ]
  },
  {
   "cell_type": "code",
   "execution_count": null,
   "metadata": {},
   "outputs": [],
   "source": [
    "# Data import with internal lipid - by domain only\n",
    "# Combine temps as well & concat\n",
    "lipid_clust_lip_traj_1 = pd.read_csv(\"data/Lipid_Clustering_Counts_scaled_Internal_Lipid_Traj_1.csv\")\n",
    "lipid_clust_lip_traj_2 = pd.read_csv(\"data/Lipid_Clustering_Counts_scaled_Internal_Lipid_Traj_2.csv\")\n",
    "lipid_clust_lip_traj_3 = pd.read_csv(\"data/Lipid_Clustering_Counts_scaled_Internal_Lipid_Traj_3.csv\")\n",
    "lipid_clust_lip_traj_4 = pd.read_csv(\"data/Lipid_Clustering_Counts_scaled_Internal_Lipid_Traj_4.csv\")\n",
    "lipid_clust_lip_traj_5 = pd.read_csv(\"data/Lipid_Clustering_Counts_scaled_Internal_Lipid_Traj_5.csv\")"
   ]
  },
  {
   "cell_type": "code",
   "execution_count": null,
   "metadata": {},
   "outputs": [],
   "source": [
    "# Data import without internal lipid - by domain only\n",
    "lipid_clust_nolip_traj_1 = pd.read_csv(\"data/Lipid_Clustering_Counts_scaled_No_Internal_Lipid_Traj_1.csv\")\n",
    "lipid_clust_nolip_traj_2 = pd.read_csv(\"data/Lipid_Clustering_Counts_scaled_No_Internal_Lipid_Traj_2.csv\")\n",
    "lipid_clust_nolip_traj_3 = pd.read_csv(\"data/Lipid_Clustering_Counts_scaled_No_Internal_Lipid_Traj_3.csv\")\n",
    "lipid_clust_nolip_traj_4 = pd.read_csv(\"data/Lipid_Clustering_Counts_scaled_No_Internal_Lipid_Traj_4.csv\")\n",
    "lipid_clust_nolip_traj_5 = pd.read_csv(\"data/Lipid_Clustering_Counts_scaled_No_Internal_Lipid_Traj_5.csv\")"
   ]
  },
  {
   "cell_type": "code",
   "execution_count": null,
   "metadata": {},
   "outputs": [],
   "source": [
    "# Data import with internal lipid - by chain and domain\n",
    "lipid_clust_lip_traj_1_bychain = pd.read_csv(\"data/Lipid_Clustering_Counts_by_Chain_scaled_Internal_Lipid_Traj_1.csv\")\n",
    "lipid_clust_lip_traj_2_bychain = pd.read_csv(\"data/Lipid_Clustering_Counts_by_Chain_scaled_Internal_Lipid_Traj_2.csv\")\n",
    "lipid_clust_lip_traj_3_bychain = pd.read_csv(\"data/Lipid_Clustering_Counts_by_Chain_scaled_Internal_Lipid_Traj_3.csv\")\n",
    "lipid_clust_lip_traj_4_bychain = pd.read_csv(\"data/Lipid_Clustering_Counts_by_Chain_scaled_Internal_Lipid_Traj_4.csv\")\n",
    "lipid_clust_lip_traj_5_bychain = pd.read_csv(\"data/Lipid_Clustering_Counts_by_Chain_scaled_Internal_Lipid_Traj_5.csv\")"
   ]
  },
  {
   "cell_type": "code",
   "execution_count": null,
   "metadata": {},
   "outputs": [],
   "source": [
    "# Data import without internal lipid - by chain and domain\n",
    "lipid_clust_nolip_traj_1_bychain = pd.read_csv(\"data/Lipid_Clustering_Counts_by_Chain_scaled_No_Internal_Lipid_Traj_1.csv\")\n",
    "lipid_clust_nolip_traj_2_bychain = pd.read_csv(\"data/Lipid_Clustering_Counts_by_Chain_scaled_No_Internal_Lipid_Traj_2.csv\")\n",
    "lipid_clust_nolip_traj_3_bychain = pd.read_csv(\"data/Lipid_Clustering_Counts_by_Chain_scaled_No_Internal_Lipid_Traj_3.csv\")\n",
    "lipid_clust_nolip_traj_4_bychain = pd.read_csv(\"data/Lipid_Clustering_Counts_by_Chain_scaled_No_Internal_Lipid_Traj_4.csv\")\n",
    "lipid_clust_nolip_traj_5_bychain = pd.read_csv(\"data/Lipid_Clustering_Counts_by_Chain_scaled_No_Internal_Lipid_Traj_5.csv\")"
   ]
  },
  {
   "cell_type": "code",
   "execution_count": null,
   "metadata": {},
   "outputs": [],
   "source": [
    "# Combine by presence of internal lipid\n",
    "lipid_clust_internal_lipid = pd.concat([lipid_clust_lip_traj_1,lipid_clust_lip_traj_2,\n",
    "                                       lipid_clust_lip_traj_3, lipid_clust_lip_traj_4,\n",
    "                                       lipid_clust_lip_traj_5],ignore_index=True)\n",
    "lipid_clust_no_internal_lipid = pd.concat([lipid_clust_nolip_traj_1,lipid_clust_nolip_traj_2,\n",
    "                                       lipid_clust_nolip_traj_3, lipid_clust_nolip_traj_4,\n",
    "                                       lipid_clust_nolip_traj_5],ignore_index=True)"
   ]
  },
  {
   "cell_type": "code",
   "execution_count": null,
   "metadata": {},
   "outputs": [],
   "source": [
    "# Combine by presence of internal lipid - by chain\n",
    "lipid_clust_internal_lipid_bychain = pd.concat([lipid_clust_lip_traj_1_bychain,\n",
    "                                                lipid_clust_lip_traj_2_bychain,\n",
    "                                                lipid_clust_lip_traj_3_bychain,\n",
    "                                                lipid_clust_lip_traj_4_bychain,\n",
    "                                                lipid_clust_lip_traj_5_bychain],\n",
    "                                               ignore_index=True)\n",
    "lipid_clust_no_internal_lipid_bychain = pd.concat([lipid_clust_nolip_traj_1_bychain,\n",
    "                                                lipid_clust_nolip_traj_2_bychain,\n",
    "                                                lipid_clust_nolip_traj_3_bychain,\n",
    "                                                lipid_clust_nolip_traj_4_bychain,\n",
    "                                                lipid_clust_nolip_traj_5_bychain],\n",
    "                                               ignore_index=True)"
   ]
  },
  {
   "cell_type": "code",
   "execution_count": null,
   "metadata": {},
   "outputs": [],
   "source": [
    "# Add in internal lipid info\n",
    "lipid_clust_internal_lipid[\"Internal_Lipid\"] = \"yes\"\n",
    "lipid_clust_no_internal_lipid[\"Internal_Lipid\"] = \"no\""
   ]
  },
  {
   "cell_type": "code",
   "execution_count": null,
   "metadata": {},
   "outputs": [],
   "source": [
    "# Add in internal lipid info - by chain\n",
    "lipid_clust_internal_lipid_bychain[\"Internal_Lipid\"] = \"yes\"\n",
    "lipid_clust_no_internal_lipid_bychain[\"Internal_Lipid\"] = \"no\""
   ]
  },
  {
   "cell_type": "code",
   "execution_count": null,
   "metadata": {},
   "outputs": [],
   "source": [
    "# Concat internal lipid and no internal lipid for plotting\n",
    "lipid_clust = pd.concat([lipid_clust_internal_lipid,lipid_clust_no_internal_lipid])"
   ]
  },
  {
   "cell_type": "code",
   "execution_count": null,
   "metadata": {},
   "outputs": [],
   "source": [
    "# Concat internal lipid and no internal lipid for plotting - by chain\n",
    "lipid_clust_bychain = pd.concat([lipid_clust_internal_lipid_bychain,\n",
    "                                 lipid_clust_no_internal_lipid_bychain])"
   ]
  },
  {
   "cell_type": "code",
   "execution_count": null,
   "metadata": {},
   "outputs": [],
   "source": [
    "# Add label for seaborn plot\n",
    "lipid_clust[\"Label\"] = lipid_clust[\"Lipid\"].astype(str) + \" \" + lipid_clust[\"Internal_Lipid\"].astype(str)"
   ]
  },
  {
   "cell_type": "code",
   "execution_count": null,
   "metadata": {},
   "outputs": [],
   "source": [
    "# Add label for seaborn plot - by chain\n",
    "lipid_clust_bychain[\"Label\"] = lipid_clust_bychain[\"Lipid\"].astype(str) + \" \" + lipid_clust_bychain[\"Internal_Lipid\"].astype(str)"
   ]
  },
  {
   "cell_type": "markdown",
   "metadata": {},
   "source": [
    "#### Plots"
   ]
  },
  {
   "cell_type": "code",
   "execution_count": null,
   "metadata": {},
   "outputs": [],
   "source": [
    "fig_dims = (20, 5)\n",
    "fig, ax = plt.subplots(figsize=fig_dims)\n",
    "clust_fig_label = sns.barplot(data=lipid_clust, x='Domain', y='Scaled_Median_Count', hue='Label',\n",
    "                              estimator=np.mean,ci=90, order=[\"Periplasmic Domain\", \"TM1\", \"TM2\", \"NBD\"]).get_figure();\n",
    "clust_fig_label.savefig(\"Lipid Clustering\", dpi=300)"
   ]
  },
  {
   "cell_type": "code",
   "execution_count": null,
   "metadata": {},
   "outputs": [],
   "source": [
    "fig_dims = (20, 5)\n",
    "fig, ax = plt.subplots(figsize=fig_dims)\n",
    "clust_fig = sns.barplot(data=lipid_clust, x='Domain', y='Scaled_Median_Count', \n",
    "                        hue='Internal_Lipid',estimator=np.mean,ci=90,\n",
    "                       order=[\"Periplasmic Domain\", \"TM1\", \"TM2\", \"NBD\"]).get_figure();\n",
    "clust_fig.savefig(\"Lipid Clustering by internal lipid\", dpi=300)"
   ]
  },
  {
   "cell_type": "code",
   "execution_count": null,
   "metadata": {},
   "outputs": [],
   "source": [
    "fig_dims = (25, 5)\n",
    "fig, ax = plt.subplots(figsize=fig_dims)\n",
    "clust_fig_bychain = sns.barplot(data=lipid_clust_bychain, x='Domain', \n",
    "                                y='Scaled_Median_Count', hue='Label',\n",
    "                                estimator=np.mean,ci=90,\n",
    "                               order=[\"Chain A Periplasmic Domain\", \n",
    "                                      \"Chain B Periplasmic Domain\",\"Chain A TM1\", \n",
    "                                      \"Chain B TM1\",\"Chain A TM2\", \"Chain B TM2\",\n",
    "                                      \"Chain A NBD\", \"Chain B NBD\"]).get_figure();\n",
    "clust_fig_bychain.savefig(\"Lipid Clustering by internal lipid and chain\", dpi=300)"
   ]
  },
  {
   "cell_type": "code",
   "execution_count": null,
   "metadata": {},
   "outputs": [],
   "source": [
    "fig_dims = (25, 5)\n",
    "fig, ax = plt.subplots(figsize=fig_dims)\n",
    "clust_fig_bychain_label = sns.barplot(data=lipid_clust_bychain, x='Domain', \n",
    "                                      y='Scaled_Median_Count', hue='Internal_Lipid',\n",
    "                                      estimator=np.mean,ci=90,\n",
    "                                      order=[\"Chain A Periplasmic Domain\", \n",
    "                                      \"Chain B Periplasmic Domain\",\"Chain A TM1\", \n",
    "                                      \"Chain B TM1\",\"Chain A TM2\", \"Chain B TM2\",\n",
    "                                      \"Chain A NBD\", \"Chain B NBD\"]).get_figure();\n",
    "clust_fig_bychain_label.savefig(\"Lipid Clustering by chain\", dpi=300)"
   ]
  },
  {
   "cell_type": "markdown",
   "metadata": {},
   "source": [
    "### Significance Tests for Lipid Clustering"
   ]
  },
  {
   "cell_type": "markdown",
   "metadata": {},
   "source": [
    "Test permutation test against my data & see differences in the output distributions."
   ]
  },
  {
   "cell_type": "code",
   "execution_count": null,
   "metadata": {},
   "outputs": [],
   "source": [
    "# Extract data by chain\n",
    "perm_internal_clust, perm_nointernal_clust = extract_sub_vals_clust(lipid_clust_bychain)"
   ]
  },
  {
   "cell_type": "code",
   "execution_count": null,
   "metadata": {},
   "outputs": [],
   "source": [
    "#Get permutation test distribution for substrate vs no substrate lipid clustering\n",
    "pooled = np.hstack([perm_internal_clust,perm_nointernal_clust])\n",
    "sizeA = 102\n",
    "sizeB= 84\n",
    "iterations = 1000000\n",
    "test = permutation(pooled,sizeA,sizeB,iterations)"
   ]
  },
  {
   "cell_type": "code",
   "execution_count": null,
   "metadata": {},
   "outputs": [],
   "source": [
    "#Plot permutation test histogram\n",
    "plt.hist(test,bins=100);\n",
    "plt.title(\"Permutation Test Internal Lipid\")\n",
    "plt.xlabel(\"Mean Difference\")\n",
    "plt.ylabel(\"Frequency\");\n",
    "plt.savefig(\"Permutation Test Internal Lipid Lipid Clustering\", dpi=150)"
   ]
  },
  {
   "cell_type": "code",
   "execution_count": null,
   "metadata": {},
   "outputs": [],
   "source": [
    "# aggregate medians for permutation test\n",
    "lipid_clust_sub_bychain_agg = lipid_clust_bychain.groupby([\"Domain\",\"Lipid\",\"Internal_Lipid\"]).agg(avg=('Scaled_Median_Count','mean'), std=('Scaled_Median_Count','std'))"
   ]
  },
  {
   "cell_type": "code",
   "execution_count": null,
   "metadata": {},
   "outputs": [],
   "source": [
    "# reset index\n",
    "lipid_clust_sub_bychain_agg.reset_index(inplace=True)"
   ]
  },
  {
   "cell_type": "code",
   "execution_count": null,
   "metadata": {},
   "outputs": [],
   "source": [
    "# create dictionary of values\n",
    "internal_lipid_clust_dic, no_internal_lipid_clust_dic = clust_dic(lipid_clust_sub_bychain_agg)"
   ]
  },
  {
   "cell_type": "code",
   "execution_count": null,
   "metadata": {},
   "outputs": [],
   "source": [
    "# calculate differences in lipid clustering values\n",
    "diff_lipid_clust, unique_lipid, unique_nolipid = chain_pair_vals(internal_lipid_clust_dic,no_internal_lipid_clust_dic)"
   ]
  },
  {
   "cell_type": "code",
   "execution_count": null,
   "metadata": {},
   "outputs": [],
   "source": [
    "#Combine all three dicts to one dictionary\n",
    "total_diff_sub_dic = {**diff_lipid_clust,**unique_lipid}"
   ]
  },
  {
   "cell_type": "code",
   "execution_count": null,
   "metadata": {},
   "outputs": [],
   "source": [
    "#Calculate p-values using permutation test distribution\n",
    "p_val_clust_perm = p_val(total_diff_sub_dic,iterations,test)"
   ]
  },
  {
   "cell_type": "code",
   "execution_count": null,
   "metadata": {},
   "outputs": [],
   "source": [
    "#Convert p-values to series for saving\n",
    "p_val_clust_perm_series = pd.Series(p_val_clust_perm, name='uncorrected p-value')\n",
    "p_val_clust_perm_series.index.name = \"Domain\"\n",
    "p_val_clust_perm_series.reset_index()"
   ]
  },
  {
   "cell_type": "code",
   "execution_count": null,
   "metadata": {},
   "outputs": [],
   "source": [
    "#save p-values!\n",
    "p_val_clust_perm_series.to_csv('Lipid clustering permutation p-values.csv')"
   ]
  },
  {
   "cell_type": "code",
   "execution_count": null,
   "metadata": {},
   "outputs": [],
   "source": [
    "#Filter for significant p-values\n",
    "perm_clust_p_val_sig = sig_p_val(p_val_clust_perm,0.05)"
   ]
  },
  {
   "cell_type": "markdown",
   "metadata": {},
   "source": [
    "3 regions which show significant differences (5% sig level) when internal lipid is present & not present based on the permutation test (p-vals are corrected):\n",
    "\n",
    "Chain A TM1: POPE --> p-val 9.8e-05\\\n",
    "Chain A Periplasmic Domain: POPE --> p-val 1e-06\\\n",
    "Chain B Periplasmic Domain: POPE --> p-val 0.00014"
   ]
  },
  {
   "cell_type": "markdown",
   "metadata": {},
   "source": [
    "### Membrane Enrichment"
   ]
  },
  {
   "cell_type": "code",
   "execution_count": null,
   "metadata": {},
   "outputs": [],
   "source": [
    "# Reimport all contacts for plotting - with internal lipid\n",
    "cdl2_lipid_traj_1 = pd.read_csv(\"data/CDL2_Band_Enrichment_Internal_Lipid_Traj_1.csv\")\n",
    "cdl2_lipid_traj_2 = pd.read_csv(\"data/CDL2_Band_Enrichment_Internal_Lipid_Traj_2.csv\")\n",
    "cdl2_lipid_traj_3 = pd.read_csv(\"data/CDL2_Band_Enrichment_Internal_Lipid_Traj_3.csv\")\n",
    "cdl2_lipid_traj_4 = pd.read_csv(\"data/CDL2_Band_Enrichment_Internal_Lipid_Traj_4.csv\")\n",
    "cdl2_lipid_traj_5 = pd.read_csv(\"data/CDL2_Band_Enrichment_Internal_Lipid_Traj_5.csv\")\n",
    "pope_lipid_traj_1 = pd.read_csv(\"data/POPE_Band_Enrichment_Internal_Lipid_Traj_1.csv\")\n",
    "pope_lipid_traj_2 = pd.read_csv(\"data/POPE_Band_Enrichment_Internal_Lipid_Traj_2.csv\")\n",
    "pope_lipid_traj_3 = pd.read_csv(\"data/POPE_Band_Enrichment_Internal_Lipid_Traj_3.csv\")\n",
    "pope_lipid_traj_4 = pd.read_csv(\"data/POPE_Band_Enrichment_Internal_Lipid_Traj_4.csv\")\n",
    "pope_lipid_traj_5 = pd.read_csv(\"data/POPE_Band_Enrichment_Internal_Lipid_Traj_5.csv\")\n",
    "popg_lipid_traj_1 = pd.read_csv(\"data/POPG_Band_Enrichment_Internal_Lipid_Traj_1.csv\")\n",
    "popg_lipid_traj_2 = pd.read_csv(\"data/POPG_Band_Enrichment_Internal_Lipid_Traj_2.csv\")\n",
    "popg_lipid_traj_3 = pd.read_csv(\"data/POPG_Band_Enrichment_Internal_Lipid_Traj_3.csv\")\n",
    "popg_lipid_traj_4 = pd.read_csv(\"data/POPG_Band_Enrichment_Internal_Lipid_Traj_4.csv\")\n",
    "popg_lipid_traj_5 = pd.read_csv(\"data/POPG_Band_Enrichment_Internal_Lipid_Traj_5.csv\")"
   ]
  },
  {
   "cell_type": "code",
   "execution_count": null,
   "metadata": {},
   "outputs": [],
   "source": [
    "# Reimport all contacts for plotting - without internal lipid\n",
    "cdl2_nolipid_traj_1 = pd.read_csv(\"data/CDL2_Band_Enrichment_No_Internal_Lipid_Traj_1.csv\")\n",
    "cdl2_nolipid_traj_2 = pd.read_csv(\"data/CDL2_Band_Enrichment_No_Internal_Lipid_Traj_2.csv\")\n",
    "cdl2_nolipid_traj_3 = pd.read_csv(\"data/CDL2_Band_Enrichment_No_Internal_Lipid_Traj_3.csv\")\n",
    "cdl2_nolipid_traj_4 = pd.read_csv(\"data/CDL2_Band_Enrichment_No_Internal_Lipid_Traj_4.csv\")\n",
    "cdl2_nolipid_traj_5 = pd.read_csv(\"data/CDL2_Band_Enrichment_No_Internal_Lipid_Traj_5.csv\")\n",
    "pope_nolipid_traj_1 = pd.read_csv(\"data/POPE_Band_Enrichment_No_Internal_Lipid_Traj_1.csv\")\n",
    "pope_nolipid_traj_2 = pd.read_csv(\"data/POPE_Band_Enrichment_No_Internal_Lipid_Traj_2.csv\")\n",
    "pope_nolipid_traj_3 = pd.read_csv(\"data/POPE_Band_Enrichment_No_Internal_Lipid_Traj_3.csv\")\n",
    "pope_nolipid_traj_4 = pd.read_csv(\"data/POPE_Band_Enrichment_No_Internal_Lipid_Traj_4.csv\")\n",
    "pope_nolipid_traj_5 = pd.read_csv(\"data/POPE_Band_Enrichment_No_Internal_Lipid_Traj_5.csv\")\n",
    "popg_nolipid_traj_1 = pd.read_csv(\"data/POPG_Band_Enrichment_No_Internal_Lipid_Traj_1.csv\")\n",
    "popg_nolipid_traj_2 = pd.read_csv(\"data/POPG_Band_Enrichment_No_Internal_Lipid_Traj_2.csv\")\n",
    "popg_nolipid_traj_3 = pd.read_csv(\"data/POPG_Band_Enrichment_No_Internal_Lipid_Traj_3.csv\")\n",
    "popg_nolipid_traj_4 = pd.read_csv(\"data/POPG_Band_Enrichment_No_Internal_Lipid_Traj_4.csv\")\n",
    "popg_nolipid_traj_5 = pd.read_csv(\"data/POPG_Band_Enrichment_No_Internal_Lipid_Traj_5.csv\")"
   ]
  },
  {
   "cell_type": "code",
   "execution_count": null,
   "metadata": {},
   "outputs": [],
   "source": [
    "# Concat trajectory repeats - by internal lipid\n",
    "cdl2_lipid = pd.concat([cdl2_lipid_traj_1,cdl2_lipid_traj_2,cdl2_lipid_traj_3,\n",
    "                       cdl2_lipid_traj_4,cdl2_lipid_traj_5]).groupby('Band Distance').agg(avg=('Enrichment_Score','mean'), std=('Enrichment_Score','std'))\n",
    "pope_lipid = pd.concat([pope_lipid_traj_1,pope_lipid_traj_2,pope_lipid_traj_3,\n",
    "                       pope_lipid_traj_4,pope_lipid_traj_5]).groupby('Band Distance').agg(avg=('Enrichment_Score','mean'), std=('Enrichment_Score','std'))\n",
    "popg_lipid = pd.concat([popg_lipid_traj_1,popg_lipid_traj_2,popg_lipid_traj_3,\n",
    "                       popg_lipid_traj_4,popg_lipid_traj_5]).groupby('Band Distance').agg(avg=('Enrichment_Score','mean'), std=('Enrichment_Score','std'))"
   ]
  },
  {
   "cell_type": "code",
   "execution_count": null,
   "metadata": {},
   "outputs": [],
   "source": [
    "# Concat trajectory repeats - by no internal lipid\n",
    "cdl2_nolipid = pd.concat([cdl2_nolipid_traj_1,cdl2_nolipid_traj_2,cdl2_nolipid_traj_3,\n",
    "                       cdl2_nolipid_traj_4,cdl2_nolipid_traj_5]).groupby('Band Distance').agg(avg=('Enrichment_Score','mean'), std=('Enrichment_Score','std'))\n",
    "pope_nolipid = pd.concat([pope_nolipid_traj_1,pope_nolipid_traj_2,pope_nolipid_traj_3,\n",
    "                       pope_nolipid_traj_4,pope_nolipid_traj_5]).groupby('Band Distance').agg(avg=('Enrichment_Score','mean'), std=('Enrichment_Score','std'))\n",
    "popg_nolipid = pd.concat([popg_nolipid_traj_1,popg_nolipid_traj_2,popg_nolipid_traj_3,\n",
    "                       popg_nolipid_traj_4,popg_nolipid_traj_5]).groupby('Band Distance').agg(avg=('Enrichment_Score','mean'), std=('Enrichment_Score','std'))"
   ]
  },
  {
   "cell_type": "code",
   "execution_count": null,
   "metadata": {},
   "outputs": [],
   "source": [
    "#Reset index to remove multi-indexing - internal lipid\n",
    "cdl2_lipid.reset_index(inplace = True)\n",
    "pope_lipid.reset_index(inplace = True)\n",
    "popg_lipid.reset_index(inplace = True)"
   ]
  },
  {
   "cell_type": "code",
   "execution_count": null,
   "metadata": {},
   "outputs": [],
   "source": [
    "#Reset index to remove multi-indexing - no internal lipid\n",
    "cdl2_nolipid.reset_index(inplace = True)\n",
    "pope_nolipid.reset_index(inplace = True)\n",
    "popg_nolipid.reset_index(inplace = True)"
   ]
  },
  {
   "cell_type": "code",
   "execution_count": null,
   "metadata": {},
   "outputs": [],
   "source": [
    "# Plot internal lipid vs no internal lipid\n",
    "plt.errorbar(x=cdl2_lipid[\"Band Distance\"],y=cdl2_lipid[\"avg\"],yerr=cdl2_lipid[\"std\"],xerr=2.5,label=\"CDL2 Internal Lipid\")\n",
    "plt.errorbar(x=cdl2_nolipid[\"Band Distance\"],y=cdl2_nolipid[\"avg\"],yerr=cdl2_nolipid[\"std\"],xerr=2.5,label=\"CDL2 No Internal Lipid\")\n",
    "plt.errorbar(x=pope_lipid[\"Band Distance\"],y=pope_lipid[\"avg\"],yerr=pope_lipid[\"std\"],xerr=2.5,label=\"POPE Internal Lipid\")\n",
    "plt.errorbar(x=pope_nolipid[\"Band Distance\"],y=pope_nolipid[\"avg\"],yerr=pope_nolipid[\"std\"],xerr=2.5,label=\"POPE No Internal Lipid\")\n",
    "plt.errorbar(x=popg_lipid[\"Band Distance\"],y=popg_lipid[\"avg\"],yerr=popg_lipid[\"std\"],xerr=2.5,label=\"POPG Internal Lipid\")\n",
    "plt.errorbar(x=popg_nolipid[\"Band Distance\"],y=popg_nolipid[\"avg\"],yerr=popg_nolipid[\"std\"],xerr=2.5,label=\"POPG No Internal Lipid\")\n",
    "plt.legend(loc='best')\n",
    "plt.title(\"Lipid Enrichment\")\n",
    "plt.xlabel(\"Radial Distance From Protein (Angstrom)\")\n",
    "plt.ylabel(\"Enrichment\")\n",
    "plt.savefig(\"Lipid Enrichment Internal Lipid vs No Internal Lipid\", dpi=300)"
   ]
  },
  {
   "cell_type": "code",
   "execution_count": null,
   "metadata": {},
   "outputs": [],
   "source": [
    "# Plot internal lipid\n",
    "plt.errorbar(x=cdl2_lipid[\"Band Distance\"],y=cdl2_lipid[\"avg\"],yerr=cdl2_lipid[\"std\"],xerr=2.5,label=\"CDL2\")\n",
    "plt.errorbar(x=pope_lipid[\"Band Distance\"],y=pope_lipid[\"avg\"],yerr=pope_lipid[\"std\"],xerr=2.5,label=\"POPE\")\n",
    "plt.errorbar(x=popg_lipid[\"Band Distance\"],y=popg_lipid[\"avg\"],yerr=popg_lipid[\"std\"],xerr=2.5,label=\"POPG\")\n",
    "plt.legend(loc='best')\n",
    "plt.title(\"Lipid Enrichment Internal Lipid\")\n",
    "plt.xlabel(\"Radial Distance From Protein (Angstrom)\")\n",
    "plt.ylabel(\"Enrichment\")\n",
    "plt.savefig(\"Lipid Enrichment Internal Lipid\", dpi=300)"
   ]
  },
  {
   "cell_type": "code",
   "execution_count": null,
   "metadata": {},
   "outputs": [],
   "source": [
    "# Plot no internal lipid\n",
    "plt.errorbar(x=cdl2_nolipid[\"Band Distance\"],y=cdl2_nolipid[\"avg\"],yerr=cdl2_nolipid[\"std\"],xerr=2.5,label=\"CDL2\")\n",
    "plt.errorbar(x=pope_nolipid[\"Band Distance\"],y=pope_nolipid[\"avg\"],yerr=pope_nolipid[\"std\"],xerr=2.5,label=\"POPE\")\n",
    "plt.errorbar(x=popg_nolipid[\"Band Distance\"],y=popg_nolipid[\"avg\"],yerr=popg_nolipid[\"std\"],xerr=2.5,label=\"POPG\")\n",
    "plt.legend(loc='best')\n",
    "plt.title(\"Lipid Enrichment No Internal Lipid\")\n",
    "plt.xlabel(\"Radial Distance From Protein (Angstrom)\")\n",
    "plt.ylabel(\"Enrichment\")\n",
    "plt.savefig(\"Lipid Enrichment No Internal Lipid\", dpi=300)"
   ]
  },
  {
   "cell_type": "markdown",
   "metadata": {},
   "source": [
    "## Protein Lipid Interactions"
   ]
  },
  {
   "cell_type": "markdown",
   "metadata": {},
   "source": [
    "##### Raw Data"
   ]
  },
  {
   "cell_type": "code",
   "execution_count": 3,
   "metadata": {},
   "outputs": [],
   "source": [
    "# Read in csv's\n",
    "df_1 = pd.read_csv(\"data/protein_lipid_interaction_internal_lipid_traj_1.csv\")\n",
    "df_2 = pd.read_csv(\"data/protein_lipid_interaction_internal_lipid_traj_2.csv\")\n",
    "df_3 = pd.read_csv(\"data/protein_lipid_interaction_internal_lipid_traj_3.csv\")\n",
    "df_4 = pd.read_csv(\"data/protein_lipid_interaction_internal_lipid_traj_4.csv\")\n",
    "df_5 = pd.read_csv(\"data/protein_lipid_interaction_internal_lipid_traj_5.csv\")\n",
    "df_6 = pd.read_csv(\"data/protein_lipid_interaction_no_internal_lipid_traj_1.csv\")\n",
    "df_7 = pd.read_csv(\"data/protein_lipid_interaction_no_internal_lipid_traj_2.csv\")\n",
    "df_8 = pd.read_csv(\"data/protein_lipid_interaction_no_internal_lipid_traj_3.csv\")\n",
    "df_9 = pd.read_csv(\"data/protein_lipid_interaction_no_internal_lipid_traj_4.csv\")\n",
    "df_10 = pd.read_csv(\"data/protein_lipid_interaction_no_internal_lipid_traj_5.csv\")"
   ]
  },
  {
   "cell_type": "markdown",
   "metadata": {},
   "source": [
    "#### Combine Data"
   ]
  },
  {
   "cell_type": "code",
   "execution_count": 4,
   "metadata": {},
   "outputs": [],
   "source": [
    "frames = [df_1, df_2, df_3, df_4, df_5, df_6, df_7, df_8, df_9, df_10]\n",
    "combined_df = pd.concat(frames, ignore_index=True)"
   ]
  },
  {
   "cell_type": "code",
   "execution_count": 5,
   "metadata": {},
   "outputs": [],
   "source": [
    "#Add one letter code back in\n",
    "combined_df[\"Protein_Code\"] = combined_df[\"Protein_Type\"].apply(convert_to_one_letter)"
   ]
  },
  {
   "cell_type": "code",
   "execution_count": 6,
   "metadata": {},
   "outputs": [],
   "source": [
    "combined_df[\"Joint_Position\"] = combined_df[\"Protein_Code\"].astype(str) + combined_df[\"Protein_ResID\"].astype(str)"
   ]
  },
  {
   "cell_type": "code",
   "execution_count": 7,
   "metadata": {},
   "outputs": [],
   "source": [
    "# First group by ID to sum appropriate lipid values\n",
    "group_contact = combined_df.groupby([\"ID\",\"Internal_Lipid?\",\"Chain\",\"Protein_ResID\",\"Joint_Position\", \"Lipid_Type\"])[\"Fraction_Frames\"].sum().unstack()"
   ]
  },
  {
   "cell_type": "code",
   "execution_count": 8,
   "metadata": {},
   "outputs": [],
   "source": [
    "#Reset index to remove multi-indexing\n",
    "group_contact.reset_index(inplace = True)"
   ]
  },
  {
   "cell_type": "code",
   "execution_count": null,
   "metadata": {},
   "outputs": [],
   "source": [
    "#Fill in NaNs with 0s\n",
    "group_contact[\"CDL2\"].fillna(value = 0, inplace = True)\n",
    "group_contact[\"POPE\"].fillna(value = 0, inplace = True)\n",
    "group_contact[\"POPG\"].fillna(value = 0, inplace = True)"
   ]
  },
  {
   "cell_type": "code",
   "execution_count": 9,
   "metadata": {},
   "outputs": [],
   "source": [
    "#sort values by protein position\n",
    "group_contact.sort_values(\"Protein_ResID\", axis = 0, ascending = True, inplace = True) "
   ]
  },
  {
   "cell_type": "code",
   "execution_count": 10,
   "metadata": {},
   "outputs": [],
   "source": [
    "# Add in sub columns for plotting\n",
    "group_contact[\"Lipid_Count\"] = group_contact[\"CDL2\"] + group_contact[\"POPE\"] + group_contact[\"POPG\"]\n",
    "group_contact[\"Internal_Lipid?_Chain\"] = group_contact[\"Internal_Lipid?\"].astype(str) + \"_\" + group_contact[\"Chain\"].astype(str)"
   ]
  },
  {
   "cell_type": "markdown",
   "metadata": {},
   "source": [
    "##### Exploratory Plots"
   ]
  },
  {
   "cell_type": "code",
   "execution_count": 13,
   "metadata": {},
   "outputs": [],
   "source": [
    "palette_dic = {\"Yes_A\":blue, \"No_A\":orange,\"Yes_B\":green,\"No_B\":red}"
   ]
  },
  {
   "cell_type": "code",
   "execution_count": null,
   "metadata": {},
   "outputs": [],
   "source": [
    "fig_dims = (60, 10)\n",
    "fig, ax = plt.subplots(figsize=fig_dims)\n",
    "group_contact_lip_fig = sns.barplot(x = \"Joint_Position\", y = \"Lipid_Count\", \n",
    "                                    hue = \"Internal_Lipid?_Chain\", data = group_contact, \n",
    "                                    estimator=np.mean, ci=90, palette=palette_dic,\n",
    "                                    hue_order=[\"Yes_A\",\"No_A\",\"Yes_B\",\"No_B\"],ax=ax).get_figure();\n",
    "group_contact_lip_fig.savefig(\"Lipid Count Internal Lipid and Chain.png\", dpi = 300)"
   ]
  },
  {
   "cell_type": "code",
   "execution_count": null,
   "metadata": {},
   "outputs": [],
   "source": [
    "fig_dims = (60, 10)\n",
    "fig, ax = plt.subplots(figsize=fig_dims)\n",
    "group_contact_lip_fig = sns.barplot(x = \"Joint_Position\", y = \"Lipid_Count\", \n",
    "                                    hue = \"Internal_Lipid?\", data = group_contact, \n",
    "                                    estimator=np.mean, ci=90,ax=ax).get_figure();\n",
    "group_contact_lip_fig.savefig(\"Lipid Count Internal Lipid.png\", dpi = 300)"
   ]
  },
  {
   "cell_type": "code",
   "execution_count": null,
   "metadata": {},
   "outputs": [],
   "source": [
    "fig_dims = (60, 10)\n",
    "fig, ax = plt.subplots(figsize=fig_dims)\n",
    "group_contact_lip_fig = sns.barplot(x = \"Joint_Position\", y = \"CDL2\", \n",
    "                                    hue = \"Internal_Lipid?_Chain\", data = group_contact, \n",
    "                                    estimator=np.mean, ci=90, palette=palette_dic,\n",
    "                                    hue_order=[\"Yes_A\",\"No_A\",\"Yes_B\",\"No_B\"],ax=ax).get_figure();\n",
    "group_contact_lip_fig.savefig(\"Lipid Count Internal Lipid and Chain CDL2.png\", dpi = 300)"
   ]
  },
  {
   "cell_type": "code",
   "execution_count": null,
   "metadata": {},
   "outputs": [],
   "source": [
    "fig_dims = (60, 10)\n",
    "fig, ax = plt.subplots(figsize=fig_dims)\n",
    "group_contact_lip_fig = sns.barplot(x = \"Joint_Position\", y = \"CDL2\", \n",
    "                                    hue = \"Internal_Lipid?\", data = group_contact, \n",
    "                                    estimator=np.mean, ci=90,ax=ax).get_figure();\n",
    "group_contact_lip_fig.savefig(\"Lipid Count Internal Lipid CDL2.png\", dpi = 300)"
   ]
  },
  {
   "cell_type": "code",
   "execution_count": null,
   "metadata": {},
   "outputs": [],
   "source": [
    "fig_dims = (60, 10)\n",
    "fig, ax = plt.subplots(figsize=fig_dims)\n",
    "group_contact_lip_fig = sns.barplot(x = \"Joint_Position\", y = \"POPE\", \n",
    "                                    hue = \"Internal_Lipid?_Chain\", data = group_contact, \n",
    "                                    estimator=np.mean, ci=90, palette=palette_dic,\n",
    "                                    hue_order=[\"Yes_A\",\"No_A\",\"Yes_B\",\"No_B\"],ax=ax).get_figure();\n",
    "group_contact_lip_fig.savefig(\"Lipid Count Internal Lipid and Chain POPE.png\", dpi = 300)"
   ]
  },
  {
   "cell_type": "code",
   "execution_count": null,
   "metadata": {},
   "outputs": [],
   "source": [
    "fig_dims = (60, 10)\n",
    "fig, ax = plt.subplots(figsize=fig_dims)\n",
    "group_contact_lip_fig = sns.barplot(x = \"Joint_Position\", y = \"POPE\", \n",
    "                                    hue = \"Internal_Lipid?\", data = group_contact, \n",
    "                                    estimator=np.mean, ci=90,ax=ax).get_figure();\n",
    "group_contact_lip_fig.savefig(\"Lipid Count Internal Lipid POPE.png\", dpi = 300)"
   ]
  },
  {
   "cell_type": "code",
   "execution_count": null,
   "metadata": {},
   "outputs": [],
   "source": [
    "fig_dims = (60, 10)\n",
    "fig, ax = plt.subplots(figsize=fig_dims)\n",
    "group_contact_lip_fig = sns.barplot(x = \"Joint_Position\", y = \"POPG\", \n",
    "                                    hue = \"Internal_Lipid?_Chain\", data = group_contact, \n",
    "                                    estimator=np.mean, ci=90, palette=palette_dic,\n",
    "                                    hue_order=[\"Yes_A\",\"No_A\",\"Yes_B\",\"No_B\"],ax=ax).get_figure();\n",
    "group_contact_lip_fig.savefig(\"Lipid Count Internal Lipid and Chain POPG.png\", dpi = 300)"
   ]
  },
  {
   "cell_type": "code",
   "execution_count": null,
   "metadata": {},
   "outputs": [],
   "source": [
    "fig_dims = (60, 10)\n",
    "fig, ax = plt.subplots(figsize=fig_dims)\n",
    "group_contact_lip_fig = sns.barplot(x = \"Joint_Position\", y = \"POPG\", \n",
    "                                    hue = \"Internal_Lipid?\", data = group_contact, \n",
    "                                    estimator=np.mean, ci=90,ax=ax).get_figure();\n",
    "group_contact_lip_fig.savefig(\"Lipid Count Internal Lipid POPG.png\", dpi = 300)"
   ]
  },
  {
   "cell_type": "markdown",
   "metadata": {},
   "source": [
    "Some interesting differences between certain amino acids with POPE lipid - interesting to test."
   ]
  },
  {
   "cell_type": "markdown",
   "metadata": {},
   "source": [
    "### Plotting for Thesis Figures"
   ]
  },
  {
   "cell_type": "markdown",
   "metadata": {},
   "source": [
    "##### POPE"
   ]
  },
  {
   "cell_type": "code",
   "execution_count": null,
   "metadata": {},
   "outputs": [],
   "source": [
    "# Aggregate data - only separate by presence of substrate\n",
    "group_contact_pope_lipid = group_contact.groupby([\"ID\",\"Internal_Lipid?\",\"Chain\",\"Protein_ResID\",\"Joint_Position\"])[\"POPE\"].mean().unstack()"
   ]
  },
  {
   "cell_type": "code",
   "execution_count": null,
   "metadata": {},
   "outputs": [],
   "source": [
    "#Reset index to remove multi-indexing\n",
    "group_contact_pope_lipid.reset_index(inplace = True)"
   ]
  },
  {
   "cell_type": "code",
   "execution_count": null,
   "metadata": {},
   "outputs": [],
   "source": [
    "# remove extra headers\n",
    "head_list_pope_lipid = group_contact_pope_lipid.columns.tolist()\n",
    "head_list_pope_lipid.remove('ID')\n",
    "head_list_pope_lipid.remove('Internal_Lipid?')\n",
    "head_list_pope_lipid.remove('Chain')\n",
    "head_list_pope_lipid.remove('Protein_ResID')"
   ]
  },
  {
   "cell_type": "code",
   "execution_count": null,
   "metadata": {},
   "outputs": [],
   "source": [
    "# Apply melt\n",
    "melt_group_contact_pope = group_contact_pope_lipid.melt(id_vars=['ID','Internal_Lipid?','Chain','Protein_ResID'],value_vars=head_list_pope_lipid,value_name=\"Mean_POPE_Count\")"
   ]
  },
  {
   "cell_type": "code",
   "execution_count": null,
   "metadata": {},
   "outputs": [],
   "source": [
    "#remove nan values\n",
    "melt_group_contact_pope.dropna(inplace = True)"
   ]
  },
  {
   "cell_type": "code",
   "execution_count": null,
   "metadata": {},
   "outputs": [],
   "source": [
    "#sort values by protein position\n",
    "melt_group_contact_pope.sort_values([\"Protein_ResID\",\"Chain\"], axis = 0, ascending = True, inplace = True)"
   ]
  },
  {
   "cell_type": "code",
   "execution_count": null,
   "metadata": {},
   "outputs": [],
   "source": [
    "# Add label\n",
    "melt_group_contact_pope[\"Internal_Lipid?_Chain\"] = melt_group_contact_pope[\"Internal_Lipid?\"].astype(str) + \"_\" +  melt_group_contact_pope[\"Chain\"].astype(str)"
   ]
  },
  {
   "cell_type": "markdown",
   "metadata": {},
   "source": [
    "Plotting when small values are removed will result in an incorrect plot. We will first define the positions which contain significantly large values, and remove others from the original \"melt_group_contact_{lipid}\" dataframe."
   ]
  },
  {
   "cell_type": "code",
   "execution_count": null,
   "metadata": {},
   "outputs": [],
   "source": [
    "# Remove small values\n",
    "melt_group_contact_pope_remove = melt_group_contact_pope[melt_group_contact_pope[\"Mean_POPE_Count\"]>0.01]"
   ]
  },
  {
   "cell_type": "code",
   "execution_count": null,
   "metadata": {},
   "outputs": [],
   "source": [
    "# Define dictionary to store positions with significant pope contacts\n",
    "x_axis_headers_pope = []\n",
    "for row in melt_group_contact_pope_remove.itertuples():\n",
    "    if row.Joint_Position not in x_axis_headers_pope:\n",
    "        x_axis_headers_pope.append(row.Joint_Position)"
   ]
  },
  {
   "cell_type": "code",
   "execution_count": null,
   "metadata": {},
   "outputs": [],
   "source": [
    "# Use these to make a new dataframe - pope\n",
    "pope_ID_list = []\n",
    "pope_internal_lip_list = []\n",
    "pope_chain_list = []\n",
    "pope_resid_list = []\n",
    "pope_joint_position_list = []\n",
    "pope_list = []\n",
    "pope_label_list = []"
   ]
  },
  {
   "cell_type": "code",
   "execution_count": null,
   "metadata": {},
   "outputs": [],
   "source": [
    "# Loop over original dataframe and extract data from positions with significant pope contacts\n",
    "for row in melt_group_contact_pope.itertuples():\n",
    "    if row.Joint_Position in x_axis_headers_pope:\n",
    "        pope_ID_list.append(row.ID)\n",
    "        pope_internal_lip_list.append(row._2)\n",
    "        pope_chain_list.append(row.Chain)\n",
    "        pope_resid_list.append(row.Protein_ResID)\n",
    "        pope_joint_position_list.append(row.Joint_Position)\n",
    "        pope_list.append(row.Mean_POPE_Count)\n",
    "        pope_label_list.append(row._7)"
   ]
  },
  {
   "cell_type": "code",
   "execution_count": null,
   "metadata": {},
   "outputs": [],
   "source": [
    "# Make a dictionary of the lists with column headings - pope\n",
    "data_pope = {'ID':pope_ID_list, 'Internal_Lipid?':pope_internal_lip_list,'Chain':pope_chain_list,\n",
    "        'Protein_ResID':pope_resid_list,'Joint_Position':pope_joint_position_list,\n",
    "        'Mean_POPE_Count':pope_list, 'Internal_Lipid?_Chain':pope_label_list}"
   ]
  },
  {
   "cell_type": "code",
   "execution_count": null,
   "metadata": {},
   "outputs": [],
   "source": [
    "# Use dictionaries to make new dataframes - pope\n",
    "pope_new = pd.DataFrame.from_dict(data_pope)"
   ]
  },
  {
   "cell_type": "code",
   "execution_count": null,
   "metadata": {},
   "outputs": [],
   "source": [
    "# Plot using seaborn\n",
    "fig_dims = (40, 10)\n",
    "fig, ax = plt.subplots(figsize=fig_dims)\n",
    "melt_group_contact_popeg_fig = sns.barplot(x = \"Joint_Position\", y = \"Mean_POPE_Count\", \n",
    "                                           hue = \"Internal_Lipid?_Chain\", \n",
    "                                           hue_order=[\"Yes_A\",\"No_A\",\"Yes_B\",\"No_B\"], \n",
    "                                           data = pope_new, palette=palette_dic, \n",
    "                                           estimator=np.mean,ci=90, ax=ax).get_figure()\n",
    "plt.xlabel(\"ResID\")\n",
    "plt.ylabel(\"POPE Fraction Frames\")\n",
    "plt.legend(loc='upper left');\n",
    "melt_group_contact_popeg_fig.savefig(\"Mean POPE Count by Substrate and Chain Relabel Remove.png\", dpi = 300)"
   ]
  },
  {
   "cell_type": "markdown",
   "metadata": {},
   "source": [
    "##### CDL2"
   ]
  },
  {
   "cell_type": "code",
   "execution_count": null,
   "metadata": {},
   "outputs": [],
   "source": [
    "# Aggregate data - only separate by presence of internal lipid\n",
    "group_contact_cdl2_lipid = group_contact.groupby([\"ID\",\"Internal_Lipid?\",\"Chain\",\"Protein_ResID\",\"Joint_Position\"])[\"CDL2\"].mean().unstack()"
   ]
  },
  {
   "cell_type": "code",
   "execution_count": null,
   "metadata": {},
   "outputs": [],
   "source": [
    "#Reset index to remove multi-indexing\n",
    "group_contact_cdl2_lipid.reset_index(inplace = True)"
   ]
  },
  {
   "cell_type": "code",
   "execution_count": null,
   "metadata": {},
   "outputs": [],
   "source": [
    "# remove extra headers\n",
    "head_list_cdl2_lipid = group_contact_cdl2_lipid.columns.tolist()\n",
    "head_list_cdl2_lipid.remove('ID')\n",
    "head_list_cdl2_lipid.remove('Internal_Lipid?')\n",
    "head_list_cdl2_lipid.remove('Chain')\n",
    "head_list_cdl2_lipid.remove('Protein_ResID')"
   ]
  },
  {
   "cell_type": "code",
   "execution_count": null,
   "metadata": {},
   "outputs": [],
   "source": [
    "# Apply melt\n",
    "melt_group_contact_cdl2 = group_contact_cdl2_lipid.melt(id_vars=['ID','Internal_Lipid?','Chain','Protein_ResID'],value_vars=head_list_cdl2_lipid,value_name=\"Mean_CDL2_Count\")"
   ]
  },
  {
   "cell_type": "code",
   "execution_count": null,
   "metadata": {},
   "outputs": [],
   "source": [
    "#remove nan values\n",
    "melt_group_contact_cdl2.dropna(inplace = True)"
   ]
  },
  {
   "cell_type": "code",
   "execution_count": null,
   "metadata": {},
   "outputs": [],
   "source": [
    "#sort values by protein position\n",
    "melt_group_contact_cdl2.sort_values([\"Protein_ResID\",\"Chain\"], axis = 0, ascending = True, inplace = True) "
   ]
  },
  {
   "cell_type": "code",
   "execution_count": null,
   "metadata": {},
   "outputs": [],
   "source": [
    "# Add label\n",
    "melt_group_contact_cdl2[\"Internal_Lipid?_Chain\"] = melt_group_contact_cdl2[\"Internal_Lipid?\"].astype(str) + \"_\" +  melt_group_contact_cdl2[\"Chain\"].astype(str)"
   ]
  },
  {
   "cell_type": "code",
   "execution_count": null,
   "metadata": {},
   "outputs": [],
   "source": [
    "# Remove small values\n",
    "melt_group_contact_cdl2_remove = melt_group_contact_cdl2[melt_group_contact_cdl2[\"Mean_CDL2_Count\"]>0.01]"
   ]
  },
  {
   "cell_type": "code",
   "execution_count": null,
   "metadata": {},
   "outputs": [],
   "source": [
    "# Define dictionary to store positions with significant cdl2 contacts\n",
    "x_axis_headers_cdl2 = []\n",
    "for row in melt_group_contact_cdl2_remove.itertuples():\n",
    "    if row.Joint_Position not in x_axis_headers_cdl2:\n",
    "        x_axis_headers_cdl2.append(row.Joint_Position)"
   ]
  },
  {
   "cell_type": "code",
   "execution_count": null,
   "metadata": {},
   "outputs": [],
   "source": [
    "# Use these to make a new dataframe - cdl2\n",
    "cdl2_ID_list = []\n",
    "cdl2_internal_lip_list = []\n",
    "cdl2_chain_list = []\n",
    "cdl2_resid_list = []\n",
    "cdl2_joint_position_list = []\n",
    "cdl2_list = []\n",
    "cdl2_label_list = []"
   ]
  },
  {
   "cell_type": "code",
   "execution_count": null,
   "metadata": {},
   "outputs": [],
   "source": [
    "# Define dictionary to store positions with significant cdl2 contacts\n",
    "for row in melt_group_contact_cdl2.itertuples():\n",
    "    if row.Joint_Position in x_axis_headers_cdl2:\n",
    "        cdl2_ID_list.append(row.ID)\n",
    "        cdl2_internal_lip_list.append(row._2)\n",
    "        cdl2_chain_list.append(row.Chain)\n",
    "        cdl2_resid_list.append(row.Protein_ResID)\n",
    "        cdl2_joint_position_list.append(row.Joint_Position)\n",
    "        cdl2_list.append(row.Mean_CDL2_Count)\n",
    "        cdl2_label_list.append(row._7)"
   ]
  },
  {
   "cell_type": "code",
   "execution_count": null,
   "metadata": {},
   "outputs": [],
   "source": [
    "# Make a dictionary of the lists with column headings - cdl2\n",
    "data_cdl2 = {'ID':cdl2_ID_list, 'Internal_Lipid?':cdl2_internal_lip_list,'Chain':cdl2_chain_list,\n",
    "        'Protein_ResID':cdl2_resid_list,'Joint_Position':cdl2_joint_position_list,\n",
    "        'Mean_CDL2_Count':cdl2_list, 'Internal_Lipid?_Chain':cdl2_label_list}"
   ]
  },
  {
   "cell_type": "code",
   "execution_count": null,
   "metadata": {},
   "outputs": [],
   "source": [
    "# Use dictionaries to make new dataframes - cdl2\n",
    "cdl2_new = pd.DataFrame.from_dict(data_cdl2)"
   ]
  },
  {
   "cell_type": "code",
   "execution_count": null,
   "metadata": {},
   "outputs": [],
   "source": [
    "# Plot using seaborn\n",
    "fig_dims = (40, 10)\n",
    "fig, ax = plt.subplots(figsize=fig_dims)\n",
    "melt_group_contact_cdl2_fig = sns.barplot(x = \"Joint_Position\", y = \"Mean_CDL2_Count\", \n",
    "                                           hue = \"Internal_Lipid?_Chain\", \n",
    "                                           hue_order=[\"Yes_A\",\"No_A\",\"Yes_B\",\"No_B\"], \n",
    "                                           data = cdl2_new, palette=palette_dic, \n",
    "                                           estimator=np.mean,ci=90, ax=ax).get_figure()\n",
    "plt.xlabel(\"ResID\")\n",
    "plt.ylabel(\"CDL2 Fraction Frames\")\n",
    "plt.legend(loc='upper left');\n",
    "melt_group_contact_cdl2_fig.savefig(\"Mean CDL2 Count by Internal Lipid and Chain Relabel Remove.png\", dpi = 300)"
   ]
  },
  {
   "cell_type": "markdown",
   "metadata": {},
   "source": [
    "##### POPG"
   ]
  },
  {
   "cell_type": "code",
   "execution_count": 14,
   "metadata": {},
   "outputs": [],
   "source": [
    "# Aggregate data - only separate by presence of internal lipid\n",
    "group_contact_popg_lipid = group_contact.groupby([\"ID\",\"Internal_Lipid?\",\"Chain\",\"Protein_ResID\",\"Joint_Position\"])[\"POPG\"].mean().unstack()"
   ]
  },
  {
   "cell_type": "code",
   "execution_count": 15,
   "metadata": {},
   "outputs": [],
   "source": [
    "#Reset index to remove multi-indexing\n",
    "group_contact_popg_lipid.reset_index(inplace = True)"
   ]
  },
  {
   "cell_type": "code",
   "execution_count": 16,
   "metadata": {},
   "outputs": [],
   "source": [
    "# remove extra headers\n",
    "head_list_popg_lipid = group_contact_popg_lipid.columns.tolist()\n",
    "head_list_popg_lipid.remove('ID')\n",
    "head_list_popg_lipid.remove('Internal_Lipid?')\n",
    "head_list_popg_lipid.remove('Chain')\n",
    "head_list_popg_lipid.remove('Protein_ResID')"
   ]
  },
  {
   "cell_type": "code",
   "execution_count": 17,
   "metadata": {},
   "outputs": [],
   "source": [
    "# Apply melt\n",
    "melt_group_contact_popg = group_contact_popg_lipid.melt(id_vars=['ID','Internal_Lipid?','Chain','Protein_ResID'],value_vars=head_list_popg_lipid,value_name=\"Mean_POPG_Count\")"
   ]
  },
  {
   "cell_type": "code",
   "execution_count": 18,
   "metadata": {},
   "outputs": [],
   "source": [
    "#remove nan values\n",
    "melt_group_contact_popg.dropna(inplace = True)"
   ]
  },
  {
   "cell_type": "code",
   "execution_count": 19,
   "metadata": {},
   "outputs": [],
   "source": [
    "#sort values by protein position\n",
    "melt_group_contact_popg.sort_values([\"Protein_ResID\",\"Chain\"], axis = 0, ascending = True, inplace = True) "
   ]
  },
  {
   "cell_type": "code",
   "execution_count": 20,
   "metadata": {},
   "outputs": [],
   "source": [
    "# Add label\n",
    "melt_group_contact_popg[\"Internal_Lipid?_Chain\"] = melt_group_contact_popg[\"Internal_Lipid?\"].astype(str) + \"_\" +  melt_group_contact_popg[\"Chain\"].astype(str)"
   ]
  },
  {
   "cell_type": "code",
   "execution_count": 21,
   "metadata": {},
   "outputs": [],
   "source": [
    "# Remove small values\n",
    "melt_group_contact_popg_remove = melt_group_contact_popg[melt_group_contact_popg[\"Mean_POPG_Count\"]>0.01]"
   ]
  },
  {
   "cell_type": "code",
   "execution_count": 22,
   "metadata": {},
   "outputs": [],
   "source": [
    "# Define dictionary to store positions with significant popg contacts\n",
    "x_axis_headers_popg = []\n",
    "for row in melt_group_contact_popg_remove.itertuples():\n",
    "    if row.Joint_Position not in x_axis_headers_popg:\n",
    "        x_axis_headers_popg.append(row.Joint_Position)"
   ]
  },
  {
   "cell_type": "code",
   "execution_count": 23,
   "metadata": {},
   "outputs": [],
   "source": [
    "# Use these to make a new dataframe - popg\n",
    "popg_ID_list = []\n",
    "popg_internal_lip_list = []\n",
    "popg_chain_list = []\n",
    "popg_resid_list = []\n",
    "popg_joint_position_list = []\n",
    "popg_list = []\n",
    "popg_label_list = []"
   ]
  },
  {
   "cell_type": "code",
   "execution_count": 24,
   "metadata": {},
   "outputs": [],
   "source": [
    "# Define dictionary to store positions with significant popg contacts\n",
    "for row in melt_group_contact_popg.itertuples():\n",
    "    if row.Joint_Position in x_axis_headers_popg:\n",
    "        popg_ID_list.append(row.ID)\n",
    "        popg_internal_lip_list.append(row._2)\n",
    "        popg_chain_list.append(row.Chain)\n",
    "        popg_resid_list.append(row.Protein_ResID)\n",
    "        popg_joint_position_list.append(row.Joint_Position)\n",
    "        popg_list.append(row.Mean_POPG_Count)\n",
    "        popg_label_list.append(row._7)"
   ]
  },
  {
   "cell_type": "code",
   "execution_count": 25,
   "metadata": {},
   "outputs": [],
   "source": [
    "# Make a dictionary of the lists with column headings - popg\n",
    "data_popg = {'ID':popg_ID_list, 'Internal_Lipid?':popg_internal_lip_list,'Chain':popg_chain_list,\n",
    "        'Protein_ResID':popg_resid_list,'Joint_Position':popg_joint_position_list,\n",
    "        'Mean_POPG_Count':popg_list, 'Internal_Lipid?_Chain':popg_label_list}"
   ]
  },
  {
   "cell_type": "code",
   "execution_count": 26,
   "metadata": {},
   "outputs": [],
   "source": [
    "# Use dictionaries to make new dataframes - popg\n",
    "popg_new = pd.DataFrame.from_dict(data_popg)"
   ]
  },
  {
   "cell_type": "code",
   "execution_count": 27,
   "metadata": {},
   "outputs": [
    {
     "data": {
      "image/png": "[encoded data removed]",
      "text/plain": [
       "<Figure size 2880x720 with 1 Axes>"
      ]
     },
     "metadata": {
      "needs_background": "light"
     },
     "output_type": "display_data"
    }
   ],
   "source": [
    "# Plot using seaborn\n",
    "fig_dims = (40, 10)\n",
    "fig, ax = plt.subplots(figsize=fig_dims)\n",
    "melt_group_contact_popg_fig = sns.barplot(x = \"Joint_Position\", y = \"Mean_POPG_Count\", \n",
    "                                           hue = \"Internal_Lipid?_Chain\", \n",
    "                                           hue_order=[\"Yes_A\",\"No_A\",\"Yes_B\",\"No_B\"], \n",
    "                                           data = popg_new, palette=palette_dic, \n",
    "                                           estimator=np.mean,ci=90, ax=ax).get_figure()\n",
    "plt.xlabel(\"ResID\")\n",
    "plt.ylabel(\"POPG Fraction Frames\")\n",
    "plt.legend(loc='upper left');\n",
    "melt_group_contact_popg_fig.savefig(\"Mean POPG Count by Internal Lipid and Chain Relabel Remove.png\", dpi = 300)"
   ]
  },
  {
   "cell_type": "markdown",
   "metadata": {},
   "source": [
    "# Significance Tests for Protein-Lipid Interactions"
   ]
  },
  {
   "cell_type": "markdown",
   "metadata": {},
   "source": [
    "#### POPE"
   ]
  },
  {
   "cell_type": "code",
   "execution_count": null,
   "metadata": {},
   "outputs": [],
   "source": [
    "# Extract POPE values separating by presence of internal lipid - need full dataset\n",
    "pope_internal_lip, pope_no_internal_lip = extract_pope_vals(group_contact)"
   ]
  },
  {
   "cell_type": "code",
   "execution_count": null,
   "metadata": {},
   "outputs": [],
   "source": [
    "# Check lengths for bootstrap test partitions\n",
    "len(pope_internal_lip)"
   ]
  },
  {
   "cell_type": "markdown",
   "metadata": {},
   "source": [
    "POPE Internal Lipid - 576\\\n",
    "POPE No Internal Lipid - 451"
   ]
  },
  {
   "cell_type": "code",
   "execution_count": null,
   "metadata": {},
   "outputs": [],
   "source": [
    "# Try bootstrap test for POPE internal lipid vs no internal lipid\n",
    "pooled_pope = list(np.hstack([pope_internal_lip,pope_no_internal_lip]))\n",
    "n_samples = 200\n",
    "iterations = 1000000\n",
    "boot_test_pope = bootstrap_lipid(pooled_pope,n_samples,iterations)"
   ]
  },
  {
   "cell_type": "code",
   "execution_count": null,
   "metadata": {},
   "outputs": [],
   "source": [
    "#Plot bootstrap test histogram \n",
    "boot_test = plt.hist(boot_test_pope,bins=100);\n",
    "plt.title(\"Substrate Bootstrap Test POPE\")\n",
    "plt.xlabel(\"Mean Difference\")\n",
    "plt.ylabel(\"Frequency\")\n",
    "plt.savefig(\"Substrate Bootstrap Test Histogram POPE\", dpi=150)"
   ]
  },
  {
   "cell_type": "code",
   "execution_count": null,
   "metadata": {},
   "outputs": [],
   "source": [
    "# Aggregate data - only separate by presence of internal lipid for pope\n",
    "group_contact_pope = group_contact.groupby([\"Internal_Lipid?\",\"Chain\",\"Protein_ResID\",\"Joint_Position\"])[\"POPE\"].mean().unstack()"
   ]
  },
  {
   "cell_type": "code",
   "execution_count": null,
   "metadata": {},
   "outputs": [],
   "source": [
    "#Reset index to remove multi-indexing\n",
    "group_contact_pope.reset_index(inplace = True)"
   ]
  },
  {
   "cell_type": "code",
   "execution_count": null,
   "metadata": {},
   "outputs": [],
   "source": [
    "# Extract substrate and no substrate values by temp to preserve amino acid and chain position\n",
    "pope_internal_lip_dic, pope_no_internal_lip_dic = chain_dic_frames_pope(melt_group_contact_pope)"
   ]
  },
  {
   "cell_type": "code",
   "execution_count": null,
   "metadata": {},
   "outputs": [],
   "source": [
    "# Take output of chain_dic_frames() and feed it to chain_pair_vals() to get unique interactions by substrate and temp\n",
    "diff_lip_pope_dic, unique_lip_pope_dic, unique_no_lip_pope_dic = chain_pair_vals(pope_internal_lip_dic,pope_no_internal_lip_dic)"
   ]
  },
  {
   "cell_type": "code",
   "execution_count": null,
   "metadata": {},
   "outputs": [],
   "source": [
    "#Combine all three dicts to one dictionary\n",
    "total_diff_pope_dic = {**diff_lip_pope_dic,**unique_lip_pope_dic,**unique_no_lip_pope_dic}"
   ]
  },
  {
   "cell_type": "code",
   "execution_count": null,
   "metadata": {},
   "outputs": [],
   "source": [
    "#Actual distribution of POPE differences\n",
    "plt.hist(total_diff_pope_dic.values(),bins=100);\n",
    "plt.title(\"Actual POPE Difference Values\")\n",
    "plt.xlabel(\"Mean Difference\")\n",
    "plt.ylabel(\"Frequency\");\n",
    "plt.savefig(\"Actual POPE Differences Internal Lipid vs No Internal Lipid\", dpi=150)"
   ]
  },
  {
   "cell_type": "code",
   "execution_count": null,
   "metadata": {},
   "outputs": [],
   "source": [
    "#Calculate p-values using bootstrap test distribution\n",
    "p_val_pope_boot = p_val(total_diff_pope_dic,iterations,boot_test_pope)"
   ]
  },
  {
   "cell_type": "code",
   "execution_count": null,
   "metadata": {},
   "outputs": [],
   "source": [
    "#Convert p-values to series for saving\n",
    "p_val_pope_series = pd.Series(p_val_pope_boot, name='p-value')\n",
    "p_val_pope_series.index.name = \"Amino Acid\"\n",
    "p_val_pope_series.reset_index()"
   ]
  },
  {
   "cell_type": "code",
   "execution_count": null,
   "metadata": {},
   "outputs": [],
   "source": [
    "#save p-values!\n",
    "p_val_pope_series.to_csv('Internal Lipid vs No Internal Lipid POPE p-values bootstrap.csv')"
   ]
  },
  {
   "cell_type": "code",
   "execution_count": null,
   "metadata": {},
   "outputs": [],
   "source": [
    "#Filter for significant p-values \n",
    "p_val_pope_sig_boot = sig_p_val(p_val_pope_boot,0.01)"
   ]
  },
  {
   "cell_type": "markdown",
   "metadata": {},
   "source": [
    "#### Comments"
   ]
  },
  {
   "cell_type": "markdown",
   "metadata": {},
   "source": [
    "Set of 25 statistically significant (1%) amino acids when for internal lipid vs no internal lipid present based on the bootstrap test:\n",
    "\n",
    "Chain A:\\\n",
    "N268, S288, Q298, Q441, S442, S446, S447, T520, N542, S566, S591, T597\n",
    "\n",
    "Chain B:\\\n",
    "S245, S252, N255, S442, S447, N506, T513, T520, N542, T549, S566, Q599, N635\n",
    "\n",
    "In favour of when internal lipid is present:\n",
    "\n",
    "Chain A:\\\n",
    "N268, Q298, Q441, S442, S446, S447, T520, S556, T597\n",
    "\n",
    "Chain B:\\\n",
    "S245, S252, N255, S442, S447, N506, T513, N542, T549, S566, Q599, N635\n",
    "\n",
    "In favour of when internal lipid is not present:\n",
    "\n",
    "Chain A:\\\n",
    "S288, N542, S591\n",
    "\n",
    "Chain B:\\\n",
    "T520"
   ]
  },
  {
   "cell_type": "markdown",
   "metadata": {},
   "source": [
    "POPE lipid is more enriched when internal lipid present - likely driven by two internal POPE lipid contacts. Results match that of lipid enrichment analysis."
   ]
  },
  {
   "cell_type": "markdown",
   "metadata": {},
   "source": [
    "#### CDL2"
   ]
  },
  {
   "cell_type": "code",
   "execution_count": null,
   "metadata": {},
   "outputs": [],
   "source": [
    "# Extract CDL2 values separating by presence of internal lipid - need full dataset\n",
    "cdl2_internal_lip, cdl2_no_internal_lip = extract_cdl2_vals(group_contact)"
   ]
  },
  {
   "cell_type": "code",
   "execution_count": null,
   "metadata": {},
   "outputs": [],
   "source": [
    "# Check lengths for bootstrap test partitions\n",
    "len(cdl2_no_internal_lip)"
   ]
  },
  {
   "cell_type": "markdown",
   "metadata": {},
   "source": [
    "CDL2 Internal Lipid: 576\\\n",
    "CDL2 No Internal Lipid: 451"
   ]
  },
  {
   "cell_type": "code",
   "execution_count": null,
   "metadata": {},
   "outputs": [],
   "source": [
    "# Try bootstrap test for CDL2 internal lipid vs no internal lipid\n",
    "pooled_cdl2 = list(np.hstack([cdl2_internal_lip,cdl2_no_internal_lip]))\n",
    "n_samples = 200\n",
    "iterations = 1000000\n",
    "boot_test_cdl2 = bootstrap_lipid(pooled_cdl2,n_samples,iterations)"
   ]
  },
  {
   "cell_type": "code",
   "execution_count": null,
   "metadata": {},
   "outputs": [],
   "source": [
    "#Plot bootstrap test histogram \n",
    "boot_test = plt.hist(boot_test_cdl2,bins=100);\n",
    "plt.title(\"Substrate Bootstrap Test CDL2\")\n",
    "plt.xlabel(\"Mean Difference\")\n",
    "plt.ylabel(\"Frequency\")\n",
    "plt.savefig(\"Substrate Bootstrap Test Histogram CDL2\", dpi=150)"
   ]
  },
  {
   "cell_type": "code",
   "execution_count": null,
   "metadata": {},
   "outputs": [],
   "source": [
    "# Aggregate data - only separate by presence of internal lipid for pope\n",
    "group_contact_cdl2 = group_contact.groupby([\"Internal_Lipid?\",\"Chain\",\"Protein_ResID\",\"Joint_Position\"])[\"CDL2\"].mean().unstack()"
   ]
  },
  {
   "cell_type": "code",
   "execution_count": null,
   "metadata": {},
   "outputs": [],
   "source": [
    "# Reset index to remove multi-indexing\n",
    "group_contact_cdl2.reset_index(inplace = True)"
   ]
  },
  {
   "cell_type": "code",
   "execution_count": null,
   "metadata": {},
   "outputs": [],
   "source": [
    "# Extract internal lipid and no internal lipid values to preserve amino acid and chain position\n",
    "cdl2_internal_lip_dic, cdl2_no_internal_lip_dic = chain_dic_frames_cdl2(melt_group_contact_cdl2)"
   ]
  },
  {
   "cell_type": "code",
   "execution_count": null,
   "metadata": {},
   "outputs": [],
   "source": [
    "# Take output of chain_dic_frames() and feed it to chain_pair_vals() to get unique interactions by substrate and temp\n",
    "diff_lip_cdl2_dic, unique_lip_cdl2_dic, unique_no_lip_cdl2_dic = chain_pair_vals(cdl2_internal_lip_dic,cdl2_no_internal_lip_dic)"
   ]
  },
  {
   "cell_type": "code",
   "execution_count": null,
   "metadata": {},
   "outputs": [],
   "source": [
    "#Combine all three dicts to one dictionary\n",
    "total_diff_cdl2_dic = {**diff_lip_cdl2_dic,**unique_lip_cdl2_dic,**unique_no_lip_cdl2_dic}"
   ]
  },
  {
   "cell_type": "code",
   "execution_count": null,
   "metadata": {},
   "outputs": [],
   "source": [
    "#Actual distribution of POPE differences\n",
    "plt.hist(total_diff_cdl2_dic.values(),bins=100);\n",
    "plt.title(\"Actual CDL2 Difference Values\")\n",
    "plt.xlabel(\"Mean Difference\")\n",
    "plt.ylabel(\"Frequency\");\n",
    "plt.savefig(\"Actual CDL2 Differences Internal Lipid vs No Internal Lipid\", dpi=150)"
   ]
  },
  {
   "cell_type": "code",
   "execution_count": null,
   "metadata": {},
   "outputs": [],
   "source": [
    "#Calculate p-values using bootstrap test distribution\n",
    "p_val_cdl2_boot = p_val(total_diff_cdl2_dic,iterations,boot_test_cdl2)"
   ]
  },
  {
   "cell_type": "code",
   "execution_count": null,
   "metadata": {},
   "outputs": [],
   "source": [
    "#Convert p-values to series for saving\n",
    "p_val_cdl2_series = pd.Series(p_val_cdl2_boot, name='p-value')\n",
    "p_val_cdl2_series.index.name = \"Amino Acid\"\n",
    "p_val_cdl2_series.reset_index()"
   ]
  },
  {
   "cell_type": "code",
   "execution_count": null,
   "metadata": {},
   "outputs": [],
   "source": [
    "#save p-values!\n",
    "p_val_cdl2_series.to_csv('Internal Lipid vs No Internal Lipid CDL2 p-values bootstrap.csv')"
   ]
  },
  {
   "cell_type": "code",
   "execution_count": null,
   "metadata": {},
   "outputs": [],
   "source": [
    "#Filter for significant p-values \n",
    "p_val_cdl2_sig_boot = sig_p_val(p_val_cdl2_boot,0.01)"
   ]
  },
  {
   "cell_type": "markdown",
   "metadata": {},
   "source": [
    "#### Comments"
   ]
  },
  {
   "cell_type": "markdown",
   "metadata": {},
   "source": [
    "Set of 23 statistically significant (1%) amino acids when for internal lipid vs no internal lipid present based on the bootstrap test:\n",
    "\n",
    "Chain A:\\\n",
    "S245, S252, T259, N268, K269, R519, T520, S566, Q570, R634, N635\n",
    "\n",
    "Chain B:\\\n",
    "S245, S252, N255, T259, R263, N268, T513, K516, T517, S566, S610, N635\n",
    "\n",
    "In favour of when internal lipid is present:\n",
    "\n",
    "Chain A:\\\n",
    "K269, T520, R634, N635\n",
    "\n",
    "Chain B:\\\n",
    "S245, T513, K516, T517, S566, S610\n",
    "\n",
    "In favour of when internal lipid is not present:\n",
    "\n",
    "Chain A:\\\n",
    "S245, S252, T259, N268, S566, Q570\n",
    "\n",
    "Chain B:\\\n",
    "S252, N255, T259, R263, N268, N635"
   ]
  },
  {
   "cell_type": "markdown",
   "metadata": {},
   "source": [
    "On the whole not much interesting seems to be happening with CDL2 lipid - results match that of lipid enrichment analysis between internal lipid vs no internal lipid."
   ]
  },
  {
   "cell_type": "markdown",
   "metadata": {},
   "source": [
    "#### POPG"
   ]
  },
  {
   "cell_type": "code",
   "execution_count": null,
   "metadata": {},
   "outputs": [],
   "source": [
    "# Extract POPG values separating by presence of internal lipid - need full dataset\n",
    "popg_internal_lip, popg_no_internal_lip = extract_popg_vals(group_contact)"
   ]
  },
  {
   "cell_type": "code",
   "execution_count": null,
   "metadata": {},
   "outputs": [],
   "source": [
    "# Check lengths for bootstrap test partitions\n",
    "len(popg_internal_lip)"
   ]
  },
  {
   "cell_type": "markdown",
   "metadata": {},
   "source": [
    "POPG Internal Lipid - 576\\\n",
    "POPG No Internal Lipid - 451\\"
   ]
  },
  {
   "cell_type": "code",
   "execution_count": null,
   "metadata": {},
   "outputs": [],
   "source": [
    "# Try bootstrap test for POPG internal lipid vs no internal lipid\n",
    "pooled_popg = list(np.hstack([popg_internal_lip,popg_no_internal_lip]))\n",
    "n_samples = 200\n",
    "iterations = 1000000\n",
    "boot_test_popg = bootstrap_lipid(pooled_popg,n_samples,iterations)"
   ]
  },
  {
   "cell_type": "code",
   "execution_count": null,
   "metadata": {},
   "outputs": [],
   "source": [
    "#Plot bootstrap test histogram \n",
    "boot_test = plt.hist(boot_test_popg,bins=100);\n",
    "plt.title(\"Substrate Bootstrap Test POPG\")\n",
    "plt.xlabel(\"Mean Difference\")\n",
    "plt.ylabel(\"Frequency\")\n",
    "plt.savefig(\"Substrate Bootstrap Test Histogram POPG\", dpi=150)"
   ]
  },
  {
   "cell_type": "code",
   "execution_count": null,
   "metadata": {},
   "outputs": [],
   "source": [
    "# Aggregate data - only separate by presence of internal lipid for pope\n",
    "group_contact_popg = group_contact.groupby([\"Internal_Lipid?\",\"Chain\",\"Protein_ResID\",\"Joint_Position\"])[\"POPG\"].mean().unstack()"
   ]
  },
  {
   "cell_type": "code",
   "execution_count": null,
   "metadata": {},
   "outputs": [],
   "source": [
    "#Reset index to remove multi-indexing\n",
    "group_contact_popg.reset_index(inplace = True)"
   ]
  },
  {
   "cell_type": "code",
   "execution_count": null,
   "metadata": {},
   "outputs": [],
   "source": [
    "# Extract internal lipid and no internal lipid values to preserve amino acid and chain position\n",
    "popg_internal_lip_dic, popg_no_internal_lip_dic = chain_dic_frames_popg(melt_group_contact_popg)"
   ]
  },
  {
   "cell_type": "code",
   "execution_count": null,
   "metadata": {},
   "outputs": [],
   "source": [
    "# Take output of chain_dic_frames() and feed it to chain_pair_vals() to get unique interactions by substrate and temp\n",
    "diff_lip_popg_dic, unique_lip_popg_dic, unique_no_lip_popg_dic = chain_pair_vals(popg_internal_lip_dic,popg_no_internal_lip_dic)"
   ]
  },
  {
   "cell_type": "code",
   "execution_count": null,
   "metadata": {},
   "outputs": [],
   "source": [
    "#Combine all three dicts to one dictionary\n",
    "total_diff_popg_dic = {**diff_lip_popg_dic,**unique_lip_popg_dic,**unique_no_lip_popg_dic}"
   ]
  },
  {
   "cell_type": "code",
   "execution_count": null,
   "metadata": {},
   "outputs": [],
   "source": [
    "#Actual distribution of POPG differences\n",
    "plt.hist(total_diff_popg_dic.values(),bins=100);\n",
    "plt.title(\"Actual POPG Difference Values\")\n",
    "plt.xlabel(\"Mean Difference\")\n",
    "plt.ylabel(\"Frequency\");\n",
    "plt.savefig(\"Actual POPG Differences Internal Lipid vs No Internal Lipid\", dpi=150)"
   ]
  },
  {
   "cell_type": "code",
   "execution_count": null,
   "metadata": {},
   "outputs": [],
   "source": [
    "#Calculate p-values using bootstrap test distribution\n",
    "p_val_popg_boot = p_val(total_diff_popg_dic,iterations,boot_test_popg)"
   ]
  },
  {
   "cell_type": "code",
   "execution_count": null,
   "metadata": {},
   "outputs": [],
   "source": [
    "#Convert p-values to series for saving\n",
    "p_val_popg_series = pd.Series(p_val_popg_boot, name='p-value')\n",
    "p_val_popg_series.index.name = \"Amino Acid\"\n",
    "p_val_popg_series.reset_index()"
   ]
  },
  {
   "cell_type": "code",
   "execution_count": null,
   "metadata": {},
   "outputs": [],
   "source": [
    "#save p-values!\n",
    "p_val_popg_series.to_csv('Internal Lipid vs No Internal Lipid POPG p-values bootstrap.csv')"
   ]
  },
  {
   "cell_type": "code",
   "execution_count": null,
   "metadata": {},
   "outputs": [],
   "source": [
    "#Filter for significant p-values \n",
    "p_val_popg_sig_boot = sig_p_val(p_val_popg_boot,0.01)"
   ]
  },
  {
   "cell_type": "markdown",
   "metadata": {},
   "source": [
    "#### Comments"
   ]
  },
  {
   "cell_type": "markdown",
   "metadata": {},
   "source": [
    "Set of 22 statistically significant (1%) amino acids when for internal lipid vs no internal lipid present based on the bootstrap test:\n",
    "\n",
    "Chain A:\\\n",
    "S245, S252, N255, T259, R519, T520, Q522, N542, S566, S610, N635\n",
    "\n",
    "Chain B:\\\n",
    "S245, N268, T513, T520, N542, S566, Q570, Q599, S610, R634, N635\n",
    "\n",
    "In favour of when internal lipid is present:\n",
    "\n",
    "Chain A:\\\n",
    "S245, S252, N255, T259, T520, N635\n",
    "\n",
    "Chain B:\\\n",
    "T513, N542\n",
    "\n",
    "In favour of when internal lipid is not present:\n",
    "\n",
    "Chain A:\\\n",
    "R519, Q522, N542, S566, S610\n",
    "\n",
    "Chain B:\\\n",
    "S245, N268, T520, S566, Q570, Q599, S610, R634, N635"
   ]
  },
  {
   "cell_type": "markdown",
   "metadata": {},
   "source": [
    "There might be something interesting with the POPG results - slightly more POPG interactions in Chain B when there is no internal lipid.\n"
   ]
  },
  {
   "cell_type": "markdown",
   "metadata": {},
   "source": [
    "### Cavity Estimation"
   ]
  },
  {
   "cell_type": "code",
   "execution_count": null,
   "metadata": {},
   "outputs": [],
   "source": [
    "# import dfs - internal lipid cavity estimates\n",
    "cavity_internal_lip_traj_1 = pd.read_csv(\"data/mean_cavity_distance_internal_lipid_traj_1.csv\")\n",
    "cavity_internal_lip_traj_2 = pd.read_csv(\"data/mean_cavity_distance_internal_lipid_traj_2.csv\")\n",
    "cavity_internal_lip_traj_3 = pd.read_csv(\"data/mean_cavity_distance_internal_lipid_traj_3.csv\")\n",
    "cavity_internal_lip_traj_4 = pd.read_csv(\"data/mean_cavity_distance_internal_lipid_traj_4.csv\")\n",
    "cavity_internal_lip_traj_5 = pd.read_csv(\"data/mean_cavity_distance_internal_lipid_traj_5.csv\")"
   ]
  },
  {
   "cell_type": "code",
   "execution_count": null,
   "metadata": {},
   "outputs": [],
   "source": [
    "# import dfs - no internal lipid cavity estimates\n",
    "cavity_no_internal_lip_traj_1 = pd.read_csv(\"data/mean_cavity_distance_no_internal_lipid_traj_1.csv\")\n",
    "cavity_no_internal_lip_traj_2 = pd.read_csv(\"data/mean_cavity_distance_no_internal_lipid_traj_2.csv\")\n",
    "cavity_no_internal_lip_traj_3 = pd.read_csv(\"data/mean_cavity_distance_no_internal_lipid_traj_3.csv\")\n",
    "cavity_no_internal_lip_traj_4 = pd.read_csv(\"data/mean_cavity_distance_no_internal_lipid_traj_4.csv\")\n",
    "cavity_no_internal_lip_traj_5 = pd.read_csv(\"data/mean_cavity_distance_no_internal_lipid_traj_5.csv\")"
   ]
  },
  {
   "cell_type": "code",
   "execution_count": null,
   "metadata": {},
   "outputs": [],
   "source": [
    "# Concat trajectory repeats - by internal lipid\n",
    "cavity_internal_lipid = pd.concat([cavity_internal_lip_traj_1,cavity_internal_lip_traj_2,\n",
    "                                   cavity_internal_lip_traj_3,cavity_internal_lip_traj_4,\n",
    "                                   cavity_internal_lip_traj_5]).groupby('Time (ns)').agg(avg=('Mean Distance','mean'), std=('Mean Distance','std'))"
   ]
  },
  {
   "cell_type": "code",
   "execution_count": null,
   "metadata": {},
   "outputs": [],
   "source": [
    "# Concat trajectory repeats - by no internal lipid\n",
    "cavity_no_internal_lipid = pd.concat([cavity_no_internal_lip_traj_1,\n",
    "                                      cavity_no_internal_lip_traj_2,\n",
    "                                      cavity_no_internal_lip_traj_3,\n",
    "                                      cavity_no_internal_lip_traj_4,\n",
    "                                      cavity_no_internal_lip_traj_5]).groupby('Time (ns)').agg(avg=('Mean Distance','mean'), std=('Mean Distance','std'))"
   ]
  },
  {
   "cell_type": "code",
   "execution_count": null,
   "metadata": {},
   "outputs": [],
   "source": [
    "#Reset index to remove multi-indexing\n",
    "cavity_internal_lipid.reset_index(inplace = True)\n",
    "cavity_no_internal_lipid.reset_index(inplace = True)"
   ]
  },
  {
   "cell_type": "code",
   "execution_count": null,
   "metadata": {},
   "outputs": [],
   "source": [
    "# Plot cavity estimation\n",
    "plt.errorbar(x=cavity_internal_lipid[\"Time (ns)\"],y=cavity_internal_lipid[\"avg\"],yerr=cavity_internal_lipid[\"std\"],label=\"Internal Lipid\")\n",
    "plt.errorbar(x=cavity_no_internal_lipid[\"Time (ns)\"],y=cavity_no_internal_lipid[\"avg\"],yerr=cavity_no_internal_lipid[\"std\"],label=\"No Internal Lipid\")\n",
    "plt.legend(loc='best')\n",
    "plt.title(\"Cavity Estimation\")\n",
    "plt.xlabel(\"Time (ns)\")\n",
    "plt.ylabel(\"Average Mean Distance (Angstrom)\")\n",
    "plt.savefig(\"Cavity Estimation Internal Lipid vs No Internal Lipid\", dpi=300)"
   ]
  },
  {
   "cell_type": "code",
   "execution_count": null,
   "metadata": {},
   "outputs": [],
   "source": [
    "# Calulate rolling average\n",
    "cavity_internal_lipid_rolling = cavity_internal_lipid[\"avg\"].rolling(window=1000,center=True).mean()\n",
    "cavity_no_internal_lipid_rolling = cavity_no_internal_lipid[\"avg\"].rolling(window=1000,center=True).mean()"
   ]
  },
  {
   "cell_type": "code",
   "execution_count": null,
   "metadata": {},
   "outputs": [],
   "source": [
    "# Plot results\n",
    "plt.plot(cavity_internal_lipid[\"avg\"], label=\"Internal Lipid\")\n",
    "plt.plot(cavity_internal_lipid_rolling, label=\"Internal Lipid Rolling Average\")\n",
    "plt.plot(cavity_no_internal_lipid[\"avg\"], label=\"No Internal Lipid\")\n",
    "plt.plot(cavity_no_internal_lipid_rolling, label=\"No Internal Lipid Rolling Average\")\n",
    "plt.legend(loc='best')"
   ]
  },
  {
   "cell_type": "code",
   "execution_count": null,
   "metadata": {},
   "outputs": [],
   "source": [
    "# Plot results without label\n",
    "plt.errorbar(x=cavity_internal_lipid[\"Time (ns)\"],y=cavity_internal_lipid[\"avg\"],yerr=cavity_internal_lipid[\"std\"],label=\"Internal Lipid\")\n",
    "plt.errorbar(x=cavity_no_internal_lipid[\"Time (ns)\"],y=cavity_no_internal_lipid[\"avg\"],yerr=cavity_no_internal_lipid[\"std\"],label=\"No Internal Lipid\")\n",
    "plt.errorbar(x=cavity_internal_lipid[\"Time (ns)\"],y=cavity_internal_lipid_rolling)\n",
    "plt.errorbar(x=cavity_no_internal_lipid[\"Time (ns)\"],y=cavity_no_internal_lipid_rolling)\n",
    "plt.legend(loc='best')\n",
    "plt.title(\"Cavity Estimation\")\n",
    "plt.xlabel(\"Time (ns)\")\n",
    "plt.ylabel(\"Average Mean Distance (Angstrom)\")\n",
    "plt.savefig(\"Cavity Estimation Internal Lipid vs No Internal Lipid Rolling Average no label\", dpi=300)"
   ]
  }
 ],
 "metadata": {
  "kernelspec": {
   "display_name": "Python 3 (ipykernel)",
   "language": "python",
   "name": "python3"
  },
  "language_info": {
   "codemirror_mode": {
    "name": "ipython",
    "version": 3
   },
   "file_extension": ".py",
   "mimetype": "text/x-python",
   "name": "python",
   "nbconvert_exporter": "python",
   "pygments_lexer": "ipython3",
   "version": "3.10.9"
  }
 },
 "nbformat": 4,
 "nbformat_minor": 4
}
